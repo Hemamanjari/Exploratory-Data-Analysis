{
 "cells": [
  {
   "cell_type": "code",
   "execution_count": 303,
   "id": "de2d8993",
   "metadata": {},
   "outputs": [
    {
     "data": {
      "text/html": [
       "<div>\n",
       "<style scoped>\n",
       "    .dataframe tbody tr th:only-of-type {\n",
       "        vertical-align: middle;\n",
       "    }\n",
       "\n",
       "    .dataframe tbody tr th {\n",
       "        vertical-align: top;\n",
       "    }\n",
       "\n",
       "    .dataframe thead th {\n",
       "        text-align: right;\n",
       "    }\n",
       "</style>\n",
       "<table border=\"1\" class=\"dataframe\">\n",
       "  <thead>\n",
       "    <tr style=\"text-align: right;\">\n",
       "      <th></th>\n",
       "      <th>SK_ID_CURR</th>\n",
       "      <th>TARGET</th>\n",
       "      <th>NAME_CONTRACT_TYPE</th>\n",
       "      <th>CODE_GENDER</th>\n",
       "      <th>FLAG_OWN_CAR</th>\n",
       "      <th>FLAG_OWN_REALTY</th>\n",
       "      <th>CNT_CHILDREN</th>\n",
       "      <th>AMT_INCOME_TOTAL</th>\n",
       "      <th>AMT_CREDIT</th>\n",
       "      <th>AMT_ANNUITY</th>\n",
       "      <th>...</th>\n",
       "      <th>FLAG_DOCUMENT_18</th>\n",
       "      <th>FLAG_DOCUMENT_19</th>\n",
       "      <th>FLAG_DOCUMENT_20</th>\n",
       "      <th>FLAG_DOCUMENT_21</th>\n",
       "      <th>AMT_REQ_CREDIT_BUREAU_HOUR</th>\n",
       "      <th>AMT_REQ_CREDIT_BUREAU_DAY</th>\n",
       "      <th>AMT_REQ_CREDIT_BUREAU_WEEK</th>\n",
       "      <th>AMT_REQ_CREDIT_BUREAU_MON</th>\n",
       "      <th>AMT_REQ_CREDIT_BUREAU_QRT</th>\n",
       "      <th>AMT_REQ_CREDIT_BUREAU_YEAR</th>\n",
       "    </tr>\n",
       "  </thead>\n",
       "  <tbody>\n",
       "    <tr>\n",
       "      <th>0</th>\n",
       "      <td>100002</td>\n",
       "      <td>1</td>\n",
       "      <td>Cash loans</td>\n",
       "      <td>M</td>\n",
       "      <td>N</td>\n",
       "      <td>Y</td>\n",
       "      <td>0</td>\n",
       "      <td>202500.0</td>\n",
       "      <td>406597.5</td>\n",
       "      <td>24700.5</td>\n",
       "      <td>...</td>\n",
       "      <td>0</td>\n",
       "      <td>0</td>\n",
       "      <td>0</td>\n",
       "      <td>0</td>\n",
       "      <td>0.0</td>\n",
       "      <td>0.0</td>\n",
       "      <td>0.0</td>\n",
       "      <td>0.0</td>\n",
       "      <td>0.0</td>\n",
       "      <td>1.0</td>\n",
       "    </tr>\n",
       "    <tr>\n",
       "      <th>1</th>\n",
       "      <td>100003</td>\n",
       "      <td>0</td>\n",
       "      <td>Cash loans</td>\n",
       "      <td>F</td>\n",
       "      <td>N</td>\n",
       "      <td>N</td>\n",
       "      <td>0</td>\n",
       "      <td>270000.0</td>\n",
       "      <td>1293502.5</td>\n",
       "      <td>35698.5</td>\n",
       "      <td>...</td>\n",
       "      <td>0</td>\n",
       "      <td>0</td>\n",
       "      <td>0</td>\n",
       "      <td>0</td>\n",
       "      <td>0.0</td>\n",
       "      <td>0.0</td>\n",
       "      <td>0.0</td>\n",
       "      <td>0.0</td>\n",
       "      <td>0.0</td>\n",
       "      <td>0.0</td>\n",
       "    </tr>\n",
       "    <tr>\n",
       "      <th>2</th>\n",
       "      <td>100004</td>\n",
       "      <td>0</td>\n",
       "      <td>Revolving loans</td>\n",
       "      <td>M</td>\n",
       "      <td>Y</td>\n",
       "      <td>Y</td>\n",
       "      <td>0</td>\n",
       "      <td>67500.0</td>\n",
       "      <td>135000.0</td>\n",
       "      <td>6750.0</td>\n",
       "      <td>...</td>\n",
       "      <td>0</td>\n",
       "      <td>0</td>\n",
       "      <td>0</td>\n",
       "      <td>0</td>\n",
       "      <td>0.0</td>\n",
       "      <td>0.0</td>\n",
       "      <td>0.0</td>\n",
       "      <td>0.0</td>\n",
       "      <td>0.0</td>\n",
       "      <td>0.0</td>\n",
       "    </tr>\n",
       "    <tr>\n",
       "      <th>3</th>\n",
       "      <td>100006</td>\n",
       "      <td>0</td>\n",
       "      <td>Cash loans</td>\n",
       "      <td>F</td>\n",
       "      <td>N</td>\n",
       "      <td>Y</td>\n",
       "      <td>0</td>\n",
       "      <td>135000.0</td>\n",
       "      <td>312682.5</td>\n",
       "      <td>29686.5</td>\n",
       "      <td>...</td>\n",
       "      <td>0</td>\n",
       "      <td>0</td>\n",
       "      <td>0</td>\n",
       "      <td>0</td>\n",
       "      <td>NaN</td>\n",
       "      <td>NaN</td>\n",
       "      <td>NaN</td>\n",
       "      <td>NaN</td>\n",
       "      <td>NaN</td>\n",
       "      <td>NaN</td>\n",
       "    </tr>\n",
       "    <tr>\n",
       "      <th>4</th>\n",
       "      <td>100007</td>\n",
       "      <td>0</td>\n",
       "      <td>Cash loans</td>\n",
       "      <td>M</td>\n",
       "      <td>N</td>\n",
       "      <td>Y</td>\n",
       "      <td>0</td>\n",
       "      <td>121500.0</td>\n",
       "      <td>513000.0</td>\n",
       "      <td>21865.5</td>\n",
       "      <td>...</td>\n",
       "      <td>0</td>\n",
       "      <td>0</td>\n",
       "      <td>0</td>\n",
       "      <td>0</td>\n",
       "      <td>0.0</td>\n",
       "      <td>0.0</td>\n",
       "      <td>0.0</td>\n",
       "      <td>0.0</td>\n",
       "      <td>0.0</td>\n",
       "      <td>0.0</td>\n",
       "    </tr>\n",
       "  </tbody>\n",
       "</table>\n",
       "<p>5 rows × 122 columns</p>\n",
       "</div>"
      ],
      "text/plain": [
       "   SK_ID_CURR  TARGET NAME_CONTRACT_TYPE CODE_GENDER FLAG_OWN_CAR  \\\n",
       "0      100002       1         Cash loans           M            N   \n",
       "1      100003       0         Cash loans           F            N   \n",
       "2      100004       0    Revolving loans           M            Y   \n",
       "3      100006       0         Cash loans           F            N   \n",
       "4      100007       0         Cash loans           M            N   \n",
       "\n",
       "  FLAG_OWN_REALTY  CNT_CHILDREN  AMT_INCOME_TOTAL  AMT_CREDIT  AMT_ANNUITY  \\\n",
       "0               Y             0          202500.0    406597.5      24700.5   \n",
       "1               N             0          270000.0   1293502.5      35698.5   \n",
       "2               Y             0           67500.0    135000.0       6750.0   \n",
       "3               Y             0          135000.0    312682.5      29686.5   \n",
       "4               Y             0          121500.0    513000.0      21865.5   \n",
       "\n",
       "   ...  FLAG_DOCUMENT_18 FLAG_DOCUMENT_19 FLAG_DOCUMENT_20 FLAG_DOCUMENT_21  \\\n",
       "0  ...                 0                0                0                0   \n",
       "1  ...                 0                0                0                0   \n",
       "2  ...                 0                0                0                0   \n",
       "3  ...                 0                0                0                0   \n",
       "4  ...                 0                0                0                0   \n",
       "\n",
       "  AMT_REQ_CREDIT_BUREAU_HOUR AMT_REQ_CREDIT_BUREAU_DAY  \\\n",
       "0                        0.0                       0.0   \n",
       "1                        0.0                       0.0   \n",
       "2                        0.0                       0.0   \n",
       "3                        NaN                       NaN   \n",
       "4                        0.0                       0.0   \n",
       "\n",
       "   AMT_REQ_CREDIT_BUREAU_WEEK  AMT_REQ_CREDIT_BUREAU_MON  \\\n",
       "0                         0.0                        0.0   \n",
       "1                         0.0                        0.0   \n",
       "2                         0.0                        0.0   \n",
       "3                         NaN                        NaN   \n",
       "4                         0.0                        0.0   \n",
       "\n",
       "   AMT_REQ_CREDIT_BUREAU_QRT  AMT_REQ_CREDIT_BUREAU_YEAR  \n",
       "0                        0.0                         1.0  \n",
       "1                        0.0                         0.0  \n",
       "2                        0.0                         0.0  \n",
       "3                        NaN                         NaN  \n",
       "4                        0.0                         0.0  \n",
       "\n",
       "[5 rows x 122 columns]"
      ]
     },
     "execution_count": 303,
     "metadata": {},
     "output_type": "execute_result"
    }
   ],
   "source": [
    "##                                             EDA IN REAL BUSINESS \n",
    "\n",
    "\n",
    "#lOAD THE REQUIRED LIBRARIES AND DATASET\n",
    "\n",
    "import pandas as pd              \n",
    "import numpy as np\n",
    "import matplotlib.pyplot as plt\n",
    "import seaborn as sns\n",
    "import warnings\n",
    "warnings.filterwarnings('ignore')\n",
    "\n",
    "df = pd.read_csv('C:\\labs\\App_data.csv')\n",
    "df.head()\n"
   ]
  },
  {
   "cell_type": "code",
   "execution_count": null,
   "id": "1c0808f6",
   "metadata": {},
   "outputs": [],
   "source": [
    "#   DATA REVIEW"
   ]
  },
  {
   "cell_type": "code",
   "execution_count": 305,
   "id": "d7aba7d7",
   "metadata": {},
   "outputs": [
    {
     "data": {
      "text/plain": [
       "(307511, 122)"
      ]
     },
     "execution_count": 305,
     "metadata": {},
     "output_type": "execute_result"
    }
   ],
   "source": [
    "df.shape"
   ]
  },
  {
   "cell_type": "code",
   "execution_count": 306,
   "id": "017341c0",
   "metadata": {},
   "outputs": [
    {
     "data": {
      "text/html": [
       "<div>\n",
       "<style scoped>\n",
       "    .dataframe tbody tr th:only-of-type {\n",
       "        vertical-align: middle;\n",
       "    }\n",
       "\n",
       "    .dataframe tbody tr th {\n",
       "        vertical-align: top;\n",
       "    }\n",
       "\n",
       "    .dataframe thead th {\n",
       "        text-align: right;\n",
       "    }\n",
       "</style>\n",
       "<table border=\"1\" class=\"dataframe\">\n",
       "  <thead>\n",
       "    <tr style=\"text-align: right;\">\n",
       "      <th></th>\n",
       "      <th>SK_ID_CURR</th>\n",
       "      <th>TARGET</th>\n",
       "      <th>CNT_CHILDREN</th>\n",
       "      <th>AMT_INCOME_TOTAL</th>\n",
       "      <th>AMT_CREDIT</th>\n",
       "      <th>AMT_ANNUITY</th>\n",
       "      <th>AMT_GOODS_PRICE</th>\n",
       "      <th>REGION_POPULATION_RELATIVE</th>\n",
       "      <th>DAYS_BIRTH</th>\n",
       "      <th>DAYS_EMPLOYED</th>\n",
       "      <th>...</th>\n",
       "      <th>FLAG_DOCUMENT_18</th>\n",
       "      <th>FLAG_DOCUMENT_19</th>\n",
       "      <th>FLAG_DOCUMENT_20</th>\n",
       "      <th>FLAG_DOCUMENT_21</th>\n",
       "      <th>AMT_REQ_CREDIT_BUREAU_HOUR</th>\n",
       "      <th>AMT_REQ_CREDIT_BUREAU_DAY</th>\n",
       "      <th>AMT_REQ_CREDIT_BUREAU_WEEK</th>\n",
       "      <th>AMT_REQ_CREDIT_BUREAU_MON</th>\n",
       "      <th>AMT_REQ_CREDIT_BUREAU_QRT</th>\n",
       "      <th>AMT_REQ_CREDIT_BUREAU_YEAR</th>\n",
       "    </tr>\n",
       "  </thead>\n",
       "  <tbody>\n",
       "    <tr>\n",
       "      <th>count</th>\n",
       "      <td>307511.000000</td>\n",
       "      <td>307511.000000</td>\n",
       "      <td>307511.000000</td>\n",
       "      <td>3.075110e+05</td>\n",
       "      <td>3.075110e+05</td>\n",
       "      <td>307499.000000</td>\n",
       "      <td>3.072330e+05</td>\n",
       "      <td>307511.000000</td>\n",
       "      <td>307511.000000</td>\n",
       "      <td>307511.000000</td>\n",
       "      <td>...</td>\n",
       "      <td>307511.000000</td>\n",
       "      <td>307511.000000</td>\n",
       "      <td>307511.000000</td>\n",
       "      <td>307511.000000</td>\n",
       "      <td>265992.000000</td>\n",
       "      <td>265992.000000</td>\n",
       "      <td>265992.000000</td>\n",
       "      <td>265992.000000</td>\n",
       "      <td>265992.000000</td>\n",
       "      <td>265992.000000</td>\n",
       "    </tr>\n",
       "    <tr>\n",
       "      <th>mean</th>\n",
       "      <td>278180.518577</td>\n",
       "      <td>0.080729</td>\n",
       "      <td>0.417052</td>\n",
       "      <td>1.687979e+05</td>\n",
       "      <td>5.990260e+05</td>\n",
       "      <td>27108.573909</td>\n",
       "      <td>5.383962e+05</td>\n",
       "      <td>0.020868</td>\n",
       "      <td>-16036.995067</td>\n",
       "      <td>63815.045904</td>\n",
       "      <td>...</td>\n",
       "      <td>0.008130</td>\n",
       "      <td>0.000595</td>\n",
       "      <td>0.000507</td>\n",
       "      <td>0.000335</td>\n",
       "      <td>0.006402</td>\n",
       "      <td>0.007000</td>\n",
       "      <td>0.034362</td>\n",
       "      <td>0.267395</td>\n",
       "      <td>0.265474</td>\n",
       "      <td>1.899974</td>\n",
       "    </tr>\n",
       "    <tr>\n",
       "      <th>std</th>\n",
       "      <td>102790.175348</td>\n",
       "      <td>0.272419</td>\n",
       "      <td>0.722121</td>\n",
       "      <td>2.371231e+05</td>\n",
       "      <td>4.024908e+05</td>\n",
       "      <td>14493.737315</td>\n",
       "      <td>3.694465e+05</td>\n",
       "      <td>0.013831</td>\n",
       "      <td>4363.988632</td>\n",
       "      <td>141275.766519</td>\n",
       "      <td>...</td>\n",
       "      <td>0.089798</td>\n",
       "      <td>0.024387</td>\n",
       "      <td>0.022518</td>\n",
       "      <td>0.018299</td>\n",
       "      <td>0.083849</td>\n",
       "      <td>0.110757</td>\n",
       "      <td>0.204685</td>\n",
       "      <td>0.916002</td>\n",
       "      <td>0.794056</td>\n",
       "      <td>1.869295</td>\n",
       "    </tr>\n",
       "    <tr>\n",
       "      <th>min</th>\n",
       "      <td>100002.000000</td>\n",
       "      <td>0.000000</td>\n",
       "      <td>0.000000</td>\n",
       "      <td>2.565000e+04</td>\n",
       "      <td>4.500000e+04</td>\n",
       "      <td>1615.500000</td>\n",
       "      <td>4.050000e+04</td>\n",
       "      <td>0.000290</td>\n",
       "      <td>-25229.000000</td>\n",
       "      <td>-17912.000000</td>\n",
       "      <td>...</td>\n",
       "      <td>0.000000</td>\n",
       "      <td>0.000000</td>\n",
       "      <td>0.000000</td>\n",
       "      <td>0.000000</td>\n",
       "      <td>0.000000</td>\n",
       "      <td>0.000000</td>\n",
       "      <td>0.000000</td>\n",
       "      <td>0.000000</td>\n",
       "      <td>0.000000</td>\n",
       "      <td>0.000000</td>\n",
       "    </tr>\n",
       "    <tr>\n",
       "      <th>25%</th>\n",
       "      <td>189145.500000</td>\n",
       "      <td>0.000000</td>\n",
       "      <td>0.000000</td>\n",
       "      <td>1.125000e+05</td>\n",
       "      <td>2.700000e+05</td>\n",
       "      <td>16524.000000</td>\n",
       "      <td>2.385000e+05</td>\n",
       "      <td>0.010006</td>\n",
       "      <td>-19682.000000</td>\n",
       "      <td>-2760.000000</td>\n",
       "      <td>...</td>\n",
       "      <td>0.000000</td>\n",
       "      <td>0.000000</td>\n",
       "      <td>0.000000</td>\n",
       "      <td>0.000000</td>\n",
       "      <td>0.000000</td>\n",
       "      <td>0.000000</td>\n",
       "      <td>0.000000</td>\n",
       "      <td>0.000000</td>\n",
       "      <td>0.000000</td>\n",
       "      <td>0.000000</td>\n",
       "    </tr>\n",
       "    <tr>\n",
       "      <th>50%</th>\n",
       "      <td>278202.000000</td>\n",
       "      <td>0.000000</td>\n",
       "      <td>0.000000</td>\n",
       "      <td>1.471500e+05</td>\n",
       "      <td>5.135310e+05</td>\n",
       "      <td>24903.000000</td>\n",
       "      <td>4.500000e+05</td>\n",
       "      <td>0.018850</td>\n",
       "      <td>-15750.000000</td>\n",
       "      <td>-1213.000000</td>\n",
       "      <td>...</td>\n",
       "      <td>0.000000</td>\n",
       "      <td>0.000000</td>\n",
       "      <td>0.000000</td>\n",
       "      <td>0.000000</td>\n",
       "      <td>0.000000</td>\n",
       "      <td>0.000000</td>\n",
       "      <td>0.000000</td>\n",
       "      <td>0.000000</td>\n",
       "      <td>0.000000</td>\n",
       "      <td>1.000000</td>\n",
       "    </tr>\n",
       "    <tr>\n",
       "      <th>75%</th>\n",
       "      <td>367142.500000</td>\n",
       "      <td>0.000000</td>\n",
       "      <td>1.000000</td>\n",
       "      <td>2.025000e+05</td>\n",
       "      <td>8.086500e+05</td>\n",
       "      <td>34596.000000</td>\n",
       "      <td>6.795000e+05</td>\n",
       "      <td>0.028663</td>\n",
       "      <td>-12413.000000</td>\n",
       "      <td>-289.000000</td>\n",
       "      <td>...</td>\n",
       "      <td>0.000000</td>\n",
       "      <td>0.000000</td>\n",
       "      <td>0.000000</td>\n",
       "      <td>0.000000</td>\n",
       "      <td>0.000000</td>\n",
       "      <td>0.000000</td>\n",
       "      <td>0.000000</td>\n",
       "      <td>0.000000</td>\n",
       "      <td>0.000000</td>\n",
       "      <td>3.000000</td>\n",
       "    </tr>\n",
       "    <tr>\n",
       "      <th>max</th>\n",
       "      <td>456255.000000</td>\n",
       "      <td>1.000000</td>\n",
       "      <td>19.000000</td>\n",
       "      <td>1.170000e+08</td>\n",
       "      <td>4.050000e+06</td>\n",
       "      <td>258025.500000</td>\n",
       "      <td>4.050000e+06</td>\n",
       "      <td>0.072508</td>\n",
       "      <td>-7489.000000</td>\n",
       "      <td>365243.000000</td>\n",
       "      <td>...</td>\n",
       "      <td>1.000000</td>\n",
       "      <td>1.000000</td>\n",
       "      <td>1.000000</td>\n",
       "      <td>1.000000</td>\n",
       "      <td>4.000000</td>\n",
       "      <td>9.000000</td>\n",
       "      <td>8.000000</td>\n",
       "      <td>27.000000</td>\n",
       "      <td>261.000000</td>\n",
       "      <td>25.000000</td>\n",
       "    </tr>\n",
       "  </tbody>\n",
       "</table>\n",
       "<p>8 rows × 106 columns</p>\n",
       "</div>"
      ],
      "text/plain": [
       "          SK_ID_CURR         TARGET   CNT_CHILDREN  AMT_INCOME_TOTAL  \\\n",
       "count  307511.000000  307511.000000  307511.000000      3.075110e+05   \n",
       "mean   278180.518577       0.080729       0.417052      1.687979e+05   \n",
       "std    102790.175348       0.272419       0.722121      2.371231e+05   \n",
       "min    100002.000000       0.000000       0.000000      2.565000e+04   \n",
       "25%    189145.500000       0.000000       0.000000      1.125000e+05   \n",
       "50%    278202.000000       0.000000       0.000000      1.471500e+05   \n",
       "75%    367142.500000       0.000000       1.000000      2.025000e+05   \n",
       "max    456255.000000       1.000000      19.000000      1.170000e+08   \n",
       "\n",
       "         AMT_CREDIT    AMT_ANNUITY  AMT_GOODS_PRICE  \\\n",
       "count  3.075110e+05  307499.000000     3.072330e+05   \n",
       "mean   5.990260e+05   27108.573909     5.383962e+05   \n",
       "std    4.024908e+05   14493.737315     3.694465e+05   \n",
       "min    4.500000e+04    1615.500000     4.050000e+04   \n",
       "25%    2.700000e+05   16524.000000     2.385000e+05   \n",
       "50%    5.135310e+05   24903.000000     4.500000e+05   \n",
       "75%    8.086500e+05   34596.000000     6.795000e+05   \n",
       "max    4.050000e+06  258025.500000     4.050000e+06   \n",
       "\n",
       "       REGION_POPULATION_RELATIVE     DAYS_BIRTH  DAYS_EMPLOYED  ...  \\\n",
       "count               307511.000000  307511.000000  307511.000000  ...   \n",
       "mean                     0.020868  -16036.995067   63815.045904  ...   \n",
       "std                      0.013831    4363.988632  141275.766519  ...   \n",
       "min                      0.000290  -25229.000000  -17912.000000  ...   \n",
       "25%                      0.010006  -19682.000000   -2760.000000  ...   \n",
       "50%                      0.018850  -15750.000000   -1213.000000  ...   \n",
       "75%                      0.028663  -12413.000000    -289.000000  ...   \n",
       "max                      0.072508   -7489.000000  365243.000000  ...   \n",
       "\n",
       "       FLAG_DOCUMENT_18  FLAG_DOCUMENT_19  FLAG_DOCUMENT_20  FLAG_DOCUMENT_21  \\\n",
       "count     307511.000000     307511.000000     307511.000000     307511.000000   \n",
       "mean           0.008130          0.000595          0.000507          0.000335   \n",
       "std            0.089798          0.024387          0.022518          0.018299   \n",
       "min            0.000000          0.000000          0.000000          0.000000   \n",
       "25%            0.000000          0.000000          0.000000          0.000000   \n",
       "50%            0.000000          0.000000          0.000000          0.000000   \n",
       "75%            0.000000          0.000000          0.000000          0.000000   \n",
       "max            1.000000          1.000000          1.000000          1.000000   \n",
       "\n",
       "       AMT_REQ_CREDIT_BUREAU_HOUR  AMT_REQ_CREDIT_BUREAU_DAY  \\\n",
       "count               265992.000000              265992.000000   \n",
       "mean                     0.006402                   0.007000   \n",
       "std                      0.083849                   0.110757   \n",
       "min                      0.000000                   0.000000   \n",
       "25%                      0.000000                   0.000000   \n",
       "50%                      0.000000                   0.000000   \n",
       "75%                      0.000000                   0.000000   \n",
       "max                      4.000000                   9.000000   \n",
       "\n",
       "       AMT_REQ_CREDIT_BUREAU_WEEK  AMT_REQ_CREDIT_BUREAU_MON  \\\n",
       "count               265992.000000              265992.000000   \n",
       "mean                     0.034362                   0.267395   \n",
       "std                      0.204685                   0.916002   \n",
       "min                      0.000000                   0.000000   \n",
       "25%                      0.000000                   0.000000   \n",
       "50%                      0.000000                   0.000000   \n",
       "75%                      0.000000                   0.000000   \n",
       "max                      8.000000                  27.000000   \n",
       "\n",
       "       AMT_REQ_CREDIT_BUREAU_QRT  AMT_REQ_CREDIT_BUREAU_YEAR  \n",
       "count              265992.000000               265992.000000  \n",
       "mean                    0.265474                    1.899974  \n",
       "std                     0.794056                    1.869295  \n",
       "min                     0.000000                    0.000000  \n",
       "25%                     0.000000                    0.000000  \n",
       "50%                     0.000000                    1.000000  \n",
       "75%                     0.000000                    3.000000  \n",
       "max                   261.000000                   25.000000  \n",
       "\n",
       "[8 rows x 106 columns]"
      ]
     },
     "execution_count": 306,
     "metadata": {},
     "output_type": "execute_result"
    }
   ],
   "source": [
    "df.describe()"
   ]
  },
  {
   "cell_type": "code",
   "execution_count": 307,
   "id": "8b4e1bc9",
   "metadata": {},
   "outputs": [
    {
     "data": {
      "text/plain": [
       "SK_ID_CURR                      int64\n",
       "TARGET                          int64\n",
       "NAME_CONTRACT_TYPE             object\n",
       "CODE_GENDER                    object\n",
       "FLAG_OWN_CAR                   object\n",
       "                               ...   \n",
       "AMT_REQ_CREDIT_BUREAU_DAY     float64\n",
       "AMT_REQ_CREDIT_BUREAU_WEEK    float64\n",
       "AMT_REQ_CREDIT_BUREAU_MON     float64\n",
       "AMT_REQ_CREDIT_BUREAU_QRT     float64\n",
       "AMT_REQ_CREDIT_BUREAU_YEAR    float64\n",
       "Length: 122, dtype: object"
      ]
     },
     "execution_count": 307,
     "metadata": {},
     "output_type": "execute_result"
    }
   ],
   "source": [
    "df.dtypes"
   ]
  },
  {
   "cell_type": "code",
   "execution_count": 308,
   "id": "bf705412",
   "metadata": {},
   "outputs": [
    {
     "data": {
      "text/plain": [
       "SK_ID_CURR                    307511\n",
       "TARGET                             2\n",
       "NAME_CONTRACT_TYPE                 2\n",
       "CODE_GENDER                        3\n",
       "FLAG_OWN_CAR                       2\n",
       "                               ...  \n",
       "AMT_REQ_CREDIT_BUREAU_DAY          9\n",
       "AMT_REQ_CREDIT_BUREAU_WEEK         9\n",
       "AMT_REQ_CREDIT_BUREAU_MON         24\n",
       "AMT_REQ_CREDIT_BUREAU_QRT         11\n",
       "AMT_REQ_CREDIT_BUREAU_YEAR        25\n",
       "Length: 122, dtype: int64"
      ]
     },
     "execution_count": 308,
     "metadata": {},
     "output_type": "execute_result"
    }
   ],
   "source": [
    "df.nunique()"
   ]
  },
  {
   "cell_type": "code",
   "execution_count": 309,
   "id": "320b5764",
   "metadata": {},
   "outputs": [
    {
     "data": {
      "text/plain": [
       "37516342"
      ]
     },
     "execution_count": 309,
     "metadata": {},
     "output_type": "execute_result"
    }
   ],
   "source": [
    "df.size"
   ]
  },
  {
   "cell_type": "code",
   "execution_count": null,
   "id": "64960015",
   "metadata": {},
   "outputs": [],
   "source": [
    "## TO FIND THE MISSING VALUES % WHICH ARE ABOVE 45%"
   ]
  },
  {
   "cell_type": "code",
   "execution_count": 310,
   "id": "bee90c4b",
   "metadata": {},
   "outputs": [
    {
     "data": {
      "text/html": [
       "<div>\n",
       "<style scoped>\n",
       "    .dataframe tbody tr th:only-of-type {\n",
       "        vertical-align: middle;\n",
       "    }\n",
       "\n",
       "    .dataframe tbody tr th {\n",
       "        vertical-align: top;\n",
       "    }\n",
       "\n",
       "    .dataframe thead th {\n",
       "        text-align: right;\n",
       "    }\n",
       "</style>\n",
       "<table border=\"1\" class=\"dataframe\">\n",
       "  <thead>\n",
       "    <tr style=\"text-align: right;\">\n",
       "      <th></th>\n",
       "      <th>Column Name</th>\n",
       "      <th>% Missing Value</th>\n",
       "    </tr>\n",
       "  </thead>\n",
       "  <tbody>\n",
       "    <tr>\n",
       "      <th>76</th>\n",
       "      <td>COMMONAREA_MEDI</td>\n",
       "      <td>0.698723</td>\n",
       "    </tr>\n",
       "    <tr>\n",
       "      <th>48</th>\n",
       "      <td>COMMONAREA_AVG</td>\n",
       "      <td>0.698723</td>\n",
       "    </tr>\n",
       "    <tr>\n",
       "      <th>62</th>\n",
       "      <td>COMMONAREA_MODE</td>\n",
       "      <td>0.698723</td>\n",
       "    </tr>\n",
       "    <tr>\n",
       "      <th>70</th>\n",
       "      <td>NONLIVINGAPARTMENTS_MODE</td>\n",
       "      <td>0.694330</td>\n",
       "    </tr>\n",
       "    <tr>\n",
       "      <th>56</th>\n",
       "      <td>NONLIVINGAPARTMENTS_AVG</td>\n",
       "      <td>0.694330</td>\n",
       "    </tr>\n",
       "    <tr>\n",
       "      <th>84</th>\n",
       "      <td>NONLIVINGAPARTMENTS_MEDI</td>\n",
       "      <td>0.694330</td>\n",
       "    </tr>\n",
       "    <tr>\n",
       "      <th>86</th>\n",
       "      <td>FONDKAPREMONT_MODE</td>\n",
       "      <td>0.683862</td>\n",
       "    </tr>\n",
       "    <tr>\n",
       "      <th>68</th>\n",
       "      <td>LIVINGAPARTMENTS_MODE</td>\n",
       "      <td>0.683550</td>\n",
       "    </tr>\n",
       "    <tr>\n",
       "      <th>54</th>\n",
       "      <td>LIVINGAPARTMENTS_AVG</td>\n",
       "      <td>0.683550</td>\n",
       "    </tr>\n",
       "    <tr>\n",
       "      <th>82</th>\n",
       "      <td>LIVINGAPARTMENTS_MEDI</td>\n",
       "      <td>0.683550</td>\n",
       "    </tr>\n",
       "    <tr>\n",
       "      <th>52</th>\n",
       "      <td>FLOORSMIN_AVG</td>\n",
       "      <td>0.678486</td>\n",
       "    </tr>\n",
       "    <tr>\n",
       "      <th>66</th>\n",
       "      <td>FLOORSMIN_MODE</td>\n",
       "      <td>0.678486</td>\n",
       "    </tr>\n",
       "    <tr>\n",
       "      <th>80</th>\n",
       "      <td>FLOORSMIN_MEDI</td>\n",
       "      <td>0.678486</td>\n",
       "    </tr>\n",
       "    <tr>\n",
       "      <th>75</th>\n",
       "      <td>YEARS_BUILD_MEDI</td>\n",
       "      <td>0.664978</td>\n",
       "    </tr>\n",
       "    <tr>\n",
       "      <th>61</th>\n",
       "      <td>YEARS_BUILD_MODE</td>\n",
       "      <td>0.664978</td>\n",
       "    </tr>\n",
       "    <tr>\n",
       "      <th>47</th>\n",
       "      <td>YEARS_BUILD_AVG</td>\n",
       "      <td>0.664978</td>\n",
       "    </tr>\n",
       "    <tr>\n",
       "      <th>21</th>\n",
       "      <td>OWN_CAR_AGE</td>\n",
       "      <td>0.659908</td>\n",
       "    </tr>\n",
       "    <tr>\n",
       "      <th>81</th>\n",
       "      <td>LANDAREA_MEDI</td>\n",
       "      <td>0.593767</td>\n",
       "    </tr>\n",
       "    <tr>\n",
       "      <th>67</th>\n",
       "      <td>LANDAREA_MODE</td>\n",
       "      <td>0.593767</td>\n",
       "    </tr>\n",
       "    <tr>\n",
       "      <th>53</th>\n",
       "      <td>LANDAREA_AVG</td>\n",
       "      <td>0.593767</td>\n",
       "    </tr>\n",
       "    <tr>\n",
       "      <th>73</th>\n",
       "      <td>BASEMENTAREA_MEDI</td>\n",
       "      <td>0.585160</td>\n",
       "    </tr>\n",
       "    <tr>\n",
       "      <th>45</th>\n",
       "      <td>BASEMENTAREA_AVG</td>\n",
       "      <td>0.585160</td>\n",
       "    </tr>\n",
       "    <tr>\n",
       "      <th>59</th>\n",
       "      <td>BASEMENTAREA_MODE</td>\n",
       "      <td>0.585160</td>\n",
       "    </tr>\n",
       "    <tr>\n",
       "      <th>41</th>\n",
       "      <td>EXT_SOURCE_1</td>\n",
       "      <td>0.563811</td>\n",
       "    </tr>\n",
       "    <tr>\n",
       "      <th>71</th>\n",
       "      <td>NONLIVINGAREA_MODE</td>\n",
       "      <td>0.551792</td>\n",
       "    </tr>\n",
       "    <tr>\n",
       "      <th>57</th>\n",
       "      <td>NONLIVINGAREA_AVG</td>\n",
       "      <td>0.551792</td>\n",
       "    </tr>\n",
       "    <tr>\n",
       "      <th>85</th>\n",
       "      <td>NONLIVINGAREA_MEDI</td>\n",
       "      <td>0.551792</td>\n",
       "    </tr>\n",
       "    <tr>\n",
       "      <th>77</th>\n",
       "      <td>ELEVATORS_MEDI</td>\n",
       "      <td>0.532960</td>\n",
       "    </tr>\n",
       "    <tr>\n",
       "      <th>49</th>\n",
       "      <td>ELEVATORS_AVG</td>\n",
       "      <td>0.532960</td>\n",
       "    </tr>\n",
       "    <tr>\n",
       "      <th>63</th>\n",
       "      <td>ELEVATORS_MODE</td>\n",
       "      <td>0.532960</td>\n",
       "    </tr>\n",
       "    <tr>\n",
       "      <th>89</th>\n",
       "      <td>WALLSMATERIAL_MODE</td>\n",
       "      <td>0.508408</td>\n",
       "    </tr>\n",
       "    <tr>\n",
       "      <th>72</th>\n",
       "      <td>APARTMENTS_MEDI</td>\n",
       "      <td>0.507497</td>\n",
       "    </tr>\n",
       "    <tr>\n",
       "      <th>44</th>\n",
       "      <td>APARTMENTS_AVG</td>\n",
       "      <td>0.507497</td>\n",
       "    </tr>\n",
       "    <tr>\n",
       "      <th>58</th>\n",
       "      <td>APARTMENTS_MODE</td>\n",
       "      <td>0.507497</td>\n",
       "    </tr>\n",
       "    <tr>\n",
       "      <th>78</th>\n",
       "      <td>ENTRANCES_MEDI</td>\n",
       "      <td>0.503488</td>\n",
       "    </tr>\n",
       "    <tr>\n",
       "      <th>50</th>\n",
       "      <td>ENTRANCES_AVG</td>\n",
       "      <td>0.503488</td>\n",
       "    </tr>\n",
       "    <tr>\n",
       "      <th>64</th>\n",
       "      <td>ENTRANCES_MODE</td>\n",
       "      <td>0.503488</td>\n",
       "    </tr>\n",
       "    <tr>\n",
       "      <th>55</th>\n",
       "      <td>LIVINGAREA_AVG</td>\n",
       "      <td>0.501933</td>\n",
       "    </tr>\n",
       "    <tr>\n",
       "      <th>69</th>\n",
       "      <td>LIVINGAREA_MODE</td>\n",
       "      <td>0.501933</td>\n",
       "    </tr>\n",
       "    <tr>\n",
       "      <th>83</th>\n",
       "      <td>LIVINGAREA_MEDI</td>\n",
       "      <td>0.501933</td>\n",
       "    </tr>\n",
       "    <tr>\n",
       "      <th>87</th>\n",
       "      <td>HOUSETYPE_MODE</td>\n",
       "      <td>0.501761</td>\n",
       "    </tr>\n",
       "    <tr>\n",
       "      <th>65</th>\n",
       "      <td>FLOORSMAX_MODE</td>\n",
       "      <td>0.497608</td>\n",
       "    </tr>\n",
       "    <tr>\n",
       "      <th>79</th>\n",
       "      <td>FLOORSMAX_MEDI</td>\n",
       "      <td>0.497608</td>\n",
       "    </tr>\n",
       "    <tr>\n",
       "      <th>51</th>\n",
       "      <td>FLOORSMAX_AVG</td>\n",
       "      <td>0.497608</td>\n",
       "    </tr>\n",
       "    <tr>\n",
       "      <th>60</th>\n",
       "      <td>YEARS_BEGINEXPLUATATION_MODE</td>\n",
       "      <td>0.487810</td>\n",
       "    </tr>\n",
       "    <tr>\n",
       "      <th>74</th>\n",
       "      <td>YEARS_BEGINEXPLUATATION_MEDI</td>\n",
       "      <td>0.487810</td>\n",
       "    </tr>\n",
       "    <tr>\n",
       "      <th>46</th>\n",
       "      <td>YEARS_BEGINEXPLUATATION_AVG</td>\n",
       "      <td>0.487810</td>\n",
       "    </tr>\n",
       "    <tr>\n",
       "      <th>88</th>\n",
       "      <td>TOTALAREA_MODE</td>\n",
       "      <td>0.482685</td>\n",
       "    </tr>\n",
       "    <tr>\n",
       "      <th>90</th>\n",
       "      <td>EMERGENCYSTATE_MODE</td>\n",
       "      <td>0.473983</td>\n",
       "    </tr>\n",
       "  </tbody>\n",
       "</table>\n",
       "</div>"
      ],
      "text/plain": [
       "                     Column Name  % Missing Value\n",
       "76               COMMONAREA_MEDI         0.698723\n",
       "48                COMMONAREA_AVG         0.698723\n",
       "62               COMMONAREA_MODE         0.698723\n",
       "70      NONLIVINGAPARTMENTS_MODE         0.694330\n",
       "56       NONLIVINGAPARTMENTS_AVG         0.694330\n",
       "84      NONLIVINGAPARTMENTS_MEDI         0.694330\n",
       "86            FONDKAPREMONT_MODE         0.683862\n",
       "68         LIVINGAPARTMENTS_MODE         0.683550\n",
       "54          LIVINGAPARTMENTS_AVG         0.683550\n",
       "82         LIVINGAPARTMENTS_MEDI         0.683550\n",
       "52                 FLOORSMIN_AVG         0.678486\n",
       "66                FLOORSMIN_MODE         0.678486\n",
       "80                FLOORSMIN_MEDI         0.678486\n",
       "75              YEARS_BUILD_MEDI         0.664978\n",
       "61              YEARS_BUILD_MODE         0.664978\n",
       "47               YEARS_BUILD_AVG         0.664978\n",
       "21                   OWN_CAR_AGE         0.659908\n",
       "81                 LANDAREA_MEDI         0.593767\n",
       "67                 LANDAREA_MODE         0.593767\n",
       "53                  LANDAREA_AVG         0.593767\n",
       "73             BASEMENTAREA_MEDI         0.585160\n",
       "45              BASEMENTAREA_AVG         0.585160\n",
       "59             BASEMENTAREA_MODE         0.585160\n",
       "41                  EXT_SOURCE_1         0.563811\n",
       "71            NONLIVINGAREA_MODE         0.551792\n",
       "57             NONLIVINGAREA_AVG         0.551792\n",
       "85            NONLIVINGAREA_MEDI         0.551792\n",
       "77                ELEVATORS_MEDI         0.532960\n",
       "49                 ELEVATORS_AVG         0.532960\n",
       "63                ELEVATORS_MODE         0.532960\n",
       "89            WALLSMATERIAL_MODE         0.508408\n",
       "72               APARTMENTS_MEDI         0.507497\n",
       "44                APARTMENTS_AVG         0.507497\n",
       "58               APARTMENTS_MODE         0.507497\n",
       "78                ENTRANCES_MEDI         0.503488\n",
       "50                 ENTRANCES_AVG         0.503488\n",
       "64                ENTRANCES_MODE         0.503488\n",
       "55                LIVINGAREA_AVG         0.501933\n",
       "69               LIVINGAREA_MODE         0.501933\n",
       "83               LIVINGAREA_MEDI         0.501933\n",
       "87                HOUSETYPE_MODE         0.501761\n",
       "65                FLOORSMAX_MODE         0.497608\n",
       "79                FLOORSMAX_MEDI         0.497608\n",
       "51                 FLOORSMAX_AVG         0.497608\n",
       "60  YEARS_BEGINEXPLUATATION_MODE         0.487810\n",
       "74  YEARS_BEGINEXPLUATATION_MEDI         0.487810\n",
       "46   YEARS_BEGINEXPLUATATION_AVG         0.487810\n",
       "88                TOTALAREA_MODE         0.482685\n",
       "90           EMERGENCYSTATE_MODE         0.473983"
      ]
     },
     "execution_count": 310,
     "metadata": {},
     "output_type": "execute_result"
    }
   ],
   "source": [
    "tem=df.isnull().mean().reset_index()\n",
    "tem=tem.rename(columns={\"index\": \"Column Name\",0:\"% Missing Value\"})\n",
    "tem=tem.sort_values(\"% Missing Value\",ascending = False)\n",
    "tem=tem[tem[\"% Missing Value\"]>0.45]\n",
    "tem"
   ]
  },
  {
   "cell_type": "code",
   "execution_count": null,
   "id": "976df4ab",
   "metadata": {},
   "outputs": [],
   "source": [
    "## DROP THE COLUMNS WHICH ARE ABOVE 45% AS IT MIGHT DIVERT THE ANALYSIS AS THERE ARE TOO MANY VALUES MISSING IN THESE COLUMNS"
   ]
  },
  {
   "cell_type": "code",
   "execution_count": 311,
   "id": "8652f668",
   "metadata": {},
   "outputs": [
    {
     "data": {
      "text/plain": [
       "(307511, 73)"
      ]
     },
     "execution_count": 311,
     "metadata": {},
     "output_type": "execute_result"
    }
   ],
   "source": [
    "drop_cols=list(tem[tem[\"% Missing Value\"]>0.45][\"Column Name\"])\n",
    "df1=df.drop(drop_cols,axis=1)\n",
    "df1.shape"
   ]
  },
  {
   "cell_type": "code",
   "execution_count": null,
   "id": "fcc6061a",
   "metadata": {},
   "outputs": [],
   "source": [
    "# COLUMNS ABOVE 45% HAVE BEEN DROPPED FROM 122 TO 73. \n",
    "## THE REMAINING COLUMNS ARE SEGREGATED INTO NUMERICAL AND CATEGORICAL COLUMNS FOR ANALYSIS \n",
    "### LETS START BY CHECKING THE NULL VALUES IN THE CONTINUOUS COLUMNS"
   ]
  },
  {
   "cell_type": "code",
   "execution_count": 312,
   "id": "cf04315c",
   "metadata": {},
   "outputs": [
    {
     "data": {
      "text/plain": [
       "AMT_INCOME_TOTAL               0\n",
       "AMT_CREDIT                     0\n",
       "AMT_ANNUITY                   12\n",
       "DAYS_BIRTH                     0\n",
       "DAYS_EMPLOYED                  0\n",
       "DAYS_REGISTRATION              0\n",
       "EXT_SOURCE_3               60965\n",
       "EXT_SOURCE_2                 660\n",
       "DAYS_LAST_PHONE_CHANGE         1\n",
       "HOUR_APPR_PROCESS_START        0\n",
       "dtype: int64"
      ]
     },
     "execution_count": 312,
     "metadata": {},
     "output_type": "execute_result"
    }
   ],
   "source": [
    "id_col=['DAYS_ID_PUBLISH']\n",
    "cont_col=['AMT_INCOME_TOTAL','AMT_CREDIT', 'AMT_ANNUITY','DAYS_BIRTH','DAYS_EMPLOYED','DAYS_REGISTRATION','EXT_SOURCE_3', 'EXT_SOURCE_2', 'DAYS_LAST_PHONE_CHANGE','HOUR_APPR_PROCESS_START']\n",
    "          \n",
    "          \n",
    "cat_col=[\"TARGET\",\"NAME_CONTRACT_TYPE\",\"CODE_GENDER\",\"FLAG_OWN_CAR\",\"FLAG_OWN_REALTY\",\"CNT_CHILDREN\",\"NAME_EDUCATION_TYPE\",\"NAME_FAMILY_STATUS\",'NAME_HOUSING_TYPE','FLAG_MOBIL','FLAG_EMP_PHONE','FLAG_WORK_PHONE','FLAG_CONT_MOBILE','FLAG_PHONE','FLAG_EMAIL','OCCUPATION_TYPE',\n",
    "'CNT_FAM_MEMBERS','REGION_RATING_CLIENT','REGION_RATING_CLIENT_W_CITY','WEEKDAY_APPR_PROCESS_START','REG_REGION_NOT_LIVE_REGION','REG_REGION_NOT_WORK_REGION','LIVE_REGION_NOT_WORK_REGION','REG_CITY_NOT_LIVE_CITY','REG_CITY_NOT_WORK_CITY',\n",
    "'LIVE_CITY_NOT_WORK_CITY','OBS_30_CNT_SOCIAL_CIRCLE','DEF_30_CNT_SOCIAL_CIRCLE','OBS_60_CNT_SOCIAL_CIRCLE','DEF_60_CNT_SOCIAL_CIRCLE','FLAG_DOCUMENT_2','FLAG_DOCUMENT_3','FLAG_DOCUMENT_4','FLAG_DOCUMENT_5','FLAG_DOCUMENT_6','FLAG_DOCUMENT_7','FLAG_DOCUMENT_8','FLAG_DOCUMENT_9'\n",
    ",'FLAG_DOCUMENT_10','FLAG_DOCUMENT_11','FLAG_DOCUMENT_12','FLAG_DOCUMENT_13','FLAG_DOCUMENT_14','FLAG_DOCUMENT_15','FLAG_DOCUMENT_16','FLAG_DOCUMENT_17','NAME_TYPE_SUITE','NAME_INCOME_TYPE',\n",
    "'FLAG_DOCUMENT_18','FLAG_DOCUMENT_19','FLAG_DOCUMENT_20','FLAG_DOCUMENT_21','AMT_REQ_CREDIT_BUREAU_HOUR','AMT_REQ_CREDIT_BUREAU_DAY','AMT_REQ_CREDIT_BUREAU_WEEK','AMT_REQ_CREDIT_BUREAU_MON','AMT_REQ_CREDIT_BUREAU_QRT','AMT_REQ_CREDIT_BUREAU_YEAR']\n",
    "\n",
    "\n",
    "\n",
    "df1[cont_col].isnull().sum()"
   ]
  },
  {
   "cell_type": "code",
   "execution_count": 313,
   "id": "4070029b",
   "metadata": {},
   "outputs": [
    {
     "data": {
      "text/plain": [
       "AMT_INCOME_TOTAL           float64\n",
       "AMT_CREDIT                 float64\n",
       "AMT_ANNUITY                float64\n",
       "DAYS_BIRTH                   int64\n",
       "DAYS_EMPLOYED                int64\n",
       "DAYS_REGISTRATION          float64\n",
       "EXT_SOURCE_3               float64\n",
       "EXT_SOURCE_2               float64\n",
       "DAYS_LAST_PHONE_CHANGE     float64\n",
       "HOUR_APPR_PROCESS_START      int64\n",
       "dtype: object"
      ]
     },
     "execution_count": 313,
     "metadata": {},
     "output_type": "execute_result"
    }
   ],
   "source": [
    "df1[cont_col].dtypes"
   ]
  },
  {
   "cell_type": "code",
   "execution_count": null,
   "id": "51920e2b",
   "metadata": {},
   "outputs": [],
   "source": [
    "##  IMPUTATION OF MISSING VALUES LESS THAN 45% IN CONTINUOUS COLUMNS BY MEDIAN"
   ]
  },
  {
   "cell_type": "code",
   "execution_count": 314,
   "id": "dcaddae7",
   "metadata": {},
   "outputs": [
    {
     "data": {
      "text/plain": [
       "<AxesSubplot:xlabel='AMT_ANNUITY'>"
      ]
     },
     "execution_count": 314,
     "metadata": {},
     "output_type": "execute_result"
    },
    {
     "data": {
      "image/png": "[encoded data removed]",
      "text/plain": [
       "<Figure size 432x288 with 1 Axes>"
      ]
     },
     "metadata": {
      "needs_background": "light"
     },
     "output_type": "display_data"
    }
   ],
   "source": [
    "sns.boxplot(df1[\"AMT_ANNUITY\"]) ## UPPER BOUND OUTLIERS ARE PRESENT. HENCE WE HAVE TO USE MEDIAN FOR SUBSTITUTION"
   ]
  },
  {
   "cell_type": "code",
   "execution_count": 315,
   "id": "bc4cba63",
   "metadata": {},
   "outputs": [
    {
     "data": {
      "text/plain": [
       "24903.0"
      ]
     },
     "execution_count": 315,
     "metadata": {},
     "output_type": "execute_result"
    }
   ],
   "source": [
    "median_=df1[\"AMT_ANNUITY\"].median()\n",
    "df1[\"AMT_ANNUITY\"]=abs(df1[\"AMT_ANNUITY\"].fillna(median_))\n",
    "median_"
   ]
  },
  {
   "cell_type": "code",
   "execution_count": 316,
   "id": "19bb3305",
   "metadata": {},
   "outputs": [
    {
     "data": {
      "text/plain": [
       "<AxesSubplot:xlabel='EXT_SOURCE_2'>"
      ]
     },
     "execution_count": 316,
     "metadata": {},
     "output_type": "execute_result"
    },
    {
     "data": {
      "image/png": "[encoded data removed]",
      "text/plain": [
       "<Figure size 432x288 with 1 Axes>"
      ]
     },
     "metadata": {
      "needs_background": "light"
     },
     "output_type": "display_data"
    }
   ],
   "source": [
    "sns.boxplot(df1[\"EXT_SOURCE_2\"])# SINCE THERE ARE NO OUTLIERS, WE CAN SUBSTITUTE MEAN FOR ALL MISSING VALUES."
   ]
  },
  {
   "cell_type": "code",
   "execution_count": null,
   "id": "e7ac1d5c",
   "metadata": {},
   "outputs": [],
   "source": [
    "# Since there are no outliers, we can substitute the missing values using mean"
   ]
  },
  {
   "cell_type": "code",
   "execution_count": 326,
   "id": "80c4dc3e",
   "metadata": {},
   "outputs": [
    {
     "data": {
      "text/plain": [
       "0.5143926741308488"
      ]
     },
     "execution_count": 326,
     "metadata": {},
     "output_type": "execute_result"
    }
   ],
   "source": [
    "mean_=df1[\"EXT_SOURCE_2\"].mean()\n",
    "df1[\"EXT_SOURCE_2\"]=(df1[\"EXT_SOURCE_2\"].fillna(mean_))\n",
    "mean_"
   ]
  },
  {
   "cell_type": "code",
   "execution_count": 318,
   "id": "341d9878",
   "metadata": {},
   "outputs": [
    {
     "data": {
      "text/plain": [
       "<AxesSubplot:xlabel='DAYS_LAST_PHONE_CHANGE'>"
      ]
     },
     "execution_count": 318,
     "metadata": {},
     "output_type": "execute_result"
    },
    {
     "data": {
      "image/png": "[encoded data removed]",
      "text/plain": [
       "<Figure size 432x288 with 1 Axes>"
      ]
     },
     "metadata": {
      "needs_background": "light"
     },
     "output_type": "display_data"
    }
   ],
   "source": [
    "sns.boxplot(df1[\"DAYS_LAST_PHONE_CHANGE\"])"
   ]
  },
  {
   "cell_type": "code",
   "execution_count": 321,
   "id": "08f204df",
   "metadata": {},
   "outputs": [
    {
     "data": {
      "text/plain": [
       "757.0"
      ]
     },
     "execution_count": 321,
     "metadata": {},
     "output_type": "execute_result"
    }
   ],
   "source": [
    "median_=df1[\"DAYS_LAST_PHONE_CHANGE\"].median()\n",
    "df1[\"DAYS_LAST_PHONE_CHANGE\"]=(df1[\"DAYS_LAST_PHONE_CHANGE\"].fillna(median_))\n",
    "median_"
   ]
  },
  {
   "cell_type": "code",
   "execution_count": 322,
   "id": "62664b77",
   "metadata": {},
   "outputs": [
    {
     "data": {
      "text/plain": [
       "<AxesSubplot:xlabel='EXT_SOURCE_3'>"
      ]
     },
     "execution_count": 322,
     "metadata": {},
     "output_type": "execute_result"
    },
    {
     "data": {
      "image/png": "[encoded data removed]",
      "text/plain": [
       "<Figure size 432x288 with 1 Axes>"
      ]
     },
     "metadata": {
      "needs_background": "light"
     },
     "output_type": "display_data"
    }
   ],
   "source": [
    "sns.boxplot(df1[\"EXT_SOURCE_3\"])"
   ]
  },
  {
   "cell_type": "code",
   "execution_count": 325,
   "id": "b783f618",
   "metadata": {},
   "outputs": [
    {
     "data": {
      "text/plain": [
       "0.5108529061800121"
      ]
     },
     "execution_count": 325,
     "metadata": {},
     "output_type": "execute_result"
    }
   ],
   "source": [
    "mean_=df1[\"EXT_SOURCE_3\"].mean()\n",
    "df1[\"EXT_SOURCE_3\"]=(df1[\"EXT_SOURCE_3\"].fillna(mean_))\n",
    "mean_"
   ]
  },
  {
   "cell_type": "code",
   "execution_count": 327,
   "id": "5eebc24c",
   "metadata": {},
   "outputs": [
    {
     "data": {
      "text/plain": [
       "AMT_INCOME_TOTAL           0\n",
       "AMT_CREDIT                 0\n",
       "AMT_ANNUITY                0\n",
       "DAYS_BIRTH                 0\n",
       "DAYS_EMPLOYED              0\n",
       "DAYS_REGISTRATION          0\n",
       "EXT_SOURCE_3               0\n",
       "EXT_SOURCE_2               0\n",
       "DAYS_LAST_PHONE_CHANGE     0\n",
       "HOUR_APPR_PROCESS_START    0\n",
       "dtype: int64"
      ]
     },
     "execution_count": 327,
     "metadata": {},
     "output_type": "execute_result"
    }
   ],
   "source": [
    "df1[cont_col].isnull().sum()   ## ALL MISSING VALUES ARE BEING IMPUTED IN CONTINUOUS COLUMNS"
   ]
  },
  {
   "cell_type": "code",
   "execution_count": null,
   "id": "7b8262d0",
   "metadata": {},
   "outputs": [],
   "source": [
    "## IMPUTATION OF MISSING VALUES IN CATEGORICAL COLUMNS\n",
    "### FIND THE PERCENTAGE OF MISSING VALUES AND SUBSTITUE WITH THEIR MODE"
   ]
  },
  {
   "cell_type": "code",
   "execution_count": 328,
   "id": "71c956e9",
   "metadata": {},
   "outputs": [
    {
     "data": {
      "text/plain": [
       "TARGET                          0.000000\n",
       "NAME_CONTRACT_TYPE              0.000000\n",
       "CODE_GENDER                     0.000000\n",
       "FLAG_OWN_CAR                    0.000000\n",
       "FLAG_OWN_REALTY                 0.000000\n",
       "CNT_CHILDREN                    0.000000\n",
       "NAME_EDUCATION_TYPE             0.000000\n",
       "NAME_FAMILY_STATUS              0.000000\n",
       "NAME_HOUSING_TYPE               0.000000\n",
       "FLAG_MOBIL                      0.000000\n",
       "FLAG_EMP_PHONE                  0.000000\n",
       "FLAG_WORK_PHONE                 0.000000\n",
       "FLAG_CONT_MOBILE                0.000000\n",
       "FLAG_PHONE                      0.000000\n",
       "FLAG_EMAIL                      0.000000\n",
       "OCCUPATION_TYPE                31.345545\n",
       "CNT_FAM_MEMBERS                 0.000650\n",
       "REGION_RATING_CLIENT            0.000000\n",
       "REGION_RATING_CLIENT_W_CITY     0.000000\n",
       "WEEKDAY_APPR_PROCESS_START      0.000000\n",
       "REG_REGION_NOT_LIVE_REGION      0.000000\n",
       "REG_REGION_NOT_WORK_REGION      0.000000\n",
       "LIVE_REGION_NOT_WORK_REGION     0.000000\n",
       "REG_CITY_NOT_LIVE_CITY          0.000000\n",
       "REG_CITY_NOT_WORK_CITY          0.000000\n",
       "LIVE_CITY_NOT_WORK_CITY         0.000000\n",
       "OBS_30_CNT_SOCIAL_CIRCLE        0.332021\n",
       "DEF_30_CNT_SOCIAL_CIRCLE        0.332021\n",
       "OBS_60_CNT_SOCIAL_CIRCLE        0.332021\n",
       "DEF_60_CNT_SOCIAL_CIRCLE        0.332021\n",
       "FLAG_DOCUMENT_2                 0.000000\n",
       "FLAG_DOCUMENT_3                 0.000000\n",
       "FLAG_DOCUMENT_4                 0.000000\n",
       "FLAG_DOCUMENT_5                 0.000000\n",
       "FLAG_DOCUMENT_6                 0.000000\n",
       "FLAG_DOCUMENT_7                 0.000000\n",
       "FLAG_DOCUMENT_8                 0.000000\n",
       "FLAG_DOCUMENT_9                 0.000000\n",
       "FLAG_DOCUMENT_10                0.000000\n",
       "FLAG_DOCUMENT_11                0.000000\n",
       "FLAG_DOCUMENT_12                0.000000\n",
       "FLAG_DOCUMENT_13                0.000000\n",
       "FLAG_DOCUMENT_14                0.000000\n",
       "FLAG_DOCUMENT_15                0.000000\n",
       "FLAG_DOCUMENT_16                0.000000\n",
       "FLAG_DOCUMENT_17                0.000000\n",
       "NAME_TYPE_SUITE                 0.420148\n",
       "NAME_INCOME_TYPE                0.000000\n",
       "FLAG_DOCUMENT_18                0.000000\n",
       "FLAG_DOCUMENT_19                0.000000\n",
       "FLAG_DOCUMENT_20                0.000000\n",
       "FLAG_DOCUMENT_21                0.000000\n",
       "AMT_REQ_CREDIT_BUREAU_HOUR     13.501631\n",
       "AMT_REQ_CREDIT_BUREAU_DAY      13.501631\n",
       "AMT_REQ_CREDIT_BUREAU_WEEK     13.501631\n",
       "AMT_REQ_CREDIT_BUREAU_MON      13.501631\n",
       "AMT_REQ_CREDIT_BUREAU_QRT      13.501631\n",
       "AMT_REQ_CREDIT_BUREAU_YEAR     13.501631\n",
       "dtype: float64"
      ]
     },
     "execution_count": 328,
     "metadata": {},
     "output_type": "execute_result"
    }
   ],
   "source": [
    "df1[cat_col].isnull().sum()/307511 *100  "
   ]
  },
  {
   "cell_type": "code",
   "execution_count": 330,
   "id": "432343a0",
   "metadata": {},
   "outputs": [
    {
     "data": {
      "text/plain": [
       "'Laborers'"
      ]
     },
     "execution_count": 330,
     "metadata": {},
     "output_type": "execute_result"
    }
   ],
   "source": [
    "mode_=df1[\"OCCUPATION_TYPE\"].mode()[0]\n",
    "df1[\"OCCUPATION_TYPE\"]=df1[\"OCCUPATION_TYPE\"].fillna(mode_)\n",
    "mode_"
   ]
  },
  {
   "cell_type": "code",
   "execution_count": 331,
   "id": "1d9a0ade",
   "metadata": {},
   "outputs": [
    {
     "data": {
      "text/plain": [
       "0.0"
      ]
     },
     "execution_count": 331,
     "metadata": {},
     "output_type": "execute_result"
    }
   ],
   "source": [
    "mode_=df1[\"AMT_REQ_CREDIT_BUREAU_HOUR\"].mode()[0]\n",
    "df1[\"AMT_REQ_CREDIT_BUREAU_HOUR\"]=df1[\"AMT_REQ_CREDIT_BUREAU_HOUR\"].fillna(mode_)\n",
    "mode_"
   ]
  },
  {
   "cell_type": "code",
   "execution_count": 332,
   "id": "886bd02c",
   "metadata": {},
   "outputs": [
    {
     "data": {
      "text/plain": [
       "0.0"
      ]
     },
     "execution_count": 332,
     "metadata": {},
     "output_type": "execute_result"
    }
   ],
   "source": [
    "mode_=df1[\"AMT_REQ_CREDIT_BUREAU_DAY\"].mode()[0]\n",
    "df1[\"AMT_REQ_CREDIT_BUREAU_DAY\"]=df1[\"AMT_REQ_CREDIT_BUREAU_DAY\"].fillna(mode_)\n",
    "mode_"
   ]
  },
  {
   "cell_type": "code",
   "execution_count": 333,
   "id": "0dc44713",
   "metadata": {},
   "outputs": [
    {
     "data": {
      "text/plain": [
       "0.0"
      ]
     },
     "execution_count": 333,
     "metadata": {},
     "output_type": "execute_result"
    }
   ],
   "source": [
    "mode_=df1[\"AMT_REQ_CREDIT_BUREAU_WEEK\"].mode()[0]\n",
    "df1[\"AMT_REQ_CREDIT_BUREAU_WEEK\"]=df1[\"AMT_REQ_CREDIT_BUREAU_WEEK\"].fillna(mode_)\n",
    "mode_"
   ]
  },
  {
   "cell_type": "code",
   "execution_count": 334,
   "id": "0e42b870",
   "metadata": {},
   "outputs": [
    {
     "data": {
      "text/plain": [
       "0.0"
      ]
     },
     "execution_count": 334,
     "metadata": {},
     "output_type": "execute_result"
    }
   ],
   "source": [
    "mode_=df1[\"AMT_REQ_CREDIT_BUREAU_QRT\"].mode()[0]\n",
    "df1[\"AMT_REQ_CREDIT_BUREAU_QRT\"]=df1[\"AMT_REQ_CREDIT_BUREAU_QRT\"].fillna(mode_)\n",
    "mode_"
   ]
  },
  {
   "cell_type": "code",
   "execution_count": 335,
   "id": "c4a6dfdd",
   "metadata": {},
   "outputs": [
    {
     "data": {
      "text/plain": [
       "0.0"
      ]
     },
     "execution_count": 335,
     "metadata": {},
     "output_type": "execute_result"
    }
   ],
   "source": [
    "mode_=df1[\"AMT_REQ_CREDIT_BUREAU_YEAR\"].mode()[0]\n",
    "df1[\"AMT_REQ_CREDIT_BUREAU_YEAR\"]=df1[\"AMT_REQ_CREDIT_BUREAU_YEAR\"].fillna(mode_)\n",
    "mode_"
   ]
  },
  {
   "cell_type": "code",
   "execution_count": null,
   "id": "2888a6df",
   "metadata": {},
   "outputs": [],
   "source": [
    "mode_=df1[\"NAME_TYPE_SUITE\"].mode()[0]\n",
    "df1[\"NAME_TYPE_SUITE\"]=df1[\"NAME_TYPE_SUITE\"].fillna(mode_)\n",
    "mode_"
   ]
  },
  {
   "cell_type": "code",
   "execution_count": null,
   "id": "50804743",
   "metadata": {},
   "outputs": [],
   "source": [
    "mode_=df1[\"OCCUPATION_TYPE\"].mode()[0]\n",
    "df1[\"OCCUPATION_TYPE\"]=df1[\"OCCUPATION_TYPE\"].fillna(mode_)\n",
    "mode_"
   ]
  },
  {
   "cell_type": "code",
   "execution_count": null,
   "id": "19823072",
   "metadata": {},
   "outputs": [],
   "source": [
    "mode_=df1[\"CNT_FAM_MEMBERS\"].mode()[0]\n",
    "df1[\"CNT_FAM_MEMBERS\"]=df1[\"CNT_FAM_MEMBERS\"].fillna(mode_)\n",
    "mode_"
   ]
  },
  {
   "cell_type": "code",
   "execution_count": 337,
   "id": "e1bbb8b7",
   "metadata": {},
   "outputs": [
    {
     "data": {
      "text/plain": [
       "0.0"
      ]
     },
     "execution_count": 337,
     "metadata": {},
     "output_type": "execute_result"
    }
   ],
   "source": [
    "mode_=df1[\"AMT_REQ_CREDIT_BUREAU_MON\"].mode()[0]\n",
    "df1[\"AMT_REQ_CREDIT_BUREAU_MON\"]=df1[\"AMT_REQ_CREDIT_BUREAU_MON\"].fillna(mode_)\n",
    "mode_"
   ]
  },
  {
   "cell_type": "code",
   "execution_count": 338,
   "id": "b8bddb17",
   "metadata": {},
   "outputs": [
    {
     "data": {
      "text/plain": [
       "0.0"
      ]
     },
     "execution_count": 338,
     "metadata": {},
     "output_type": "execute_result"
    }
   ],
   "source": [
    "mode_=df1[\"OBS_30_CNT_SOCIAL_CIRCLE\"].mode()[0]\n",
    "df1[\"OBS_30_CNT_SOCIAL_CIRCLE\"]=df1[\"OBS_30_CNT_SOCIAL_CIRCLE\"].fillna(mode_)\n",
    "mode_"
   ]
  },
  {
   "cell_type": "code",
   "execution_count": 340,
   "id": "ad7410cf",
   "metadata": {},
   "outputs": [
    {
     "data": {
      "text/plain": [
       "0.0"
      ]
     },
     "execution_count": 340,
     "metadata": {},
     "output_type": "execute_result"
    }
   ],
   "source": [
    "mode_=df1[\"DEF_30_CNT_SOCIAL_CIRCLE\"].mode()[0]\n",
    "df1[\"DEF_30_CNT_SOCIAL_CIRCLE\"]=df1[\"DEF_30_CNT_SOCIAL_CIRCLE\"].fillna(mode_)\n",
    "mode_"
   ]
  },
  {
   "cell_type": "code",
   "execution_count": 342,
   "id": "024eeb92",
   "metadata": {},
   "outputs": [
    {
     "data": {
      "text/plain": [
       "0.0"
      ]
     },
     "execution_count": 342,
     "metadata": {},
     "output_type": "execute_result"
    }
   ],
   "source": [
    "mode_=df1[\"OBS_60_CNT_SOCIAL_CIRCLE\"].mode()[0]\n",
    "df1[\"OBS_60_CNT_SOCIAL_CIRCLE\"]=df1[\"OBS_60_CNT_SOCIAL_CIRCLE\"].fillna(mode_)\n",
    "mode_"
   ]
  },
  {
   "cell_type": "code",
   "execution_count": 343,
   "id": "fcbef5c8",
   "metadata": {},
   "outputs": [
    {
     "data": {
      "text/plain": [
       "0.0"
      ]
     },
     "execution_count": 343,
     "metadata": {},
     "output_type": "execute_result"
    }
   ],
   "source": [
    "mode_=df1[\"DEF_60_CNT_SOCIAL_CIRCLE\"].mode()[0]\n",
    "df1[\"DEF_60_CNT_SOCIAL_CIRCLE\"]=df1[\"DEF_60_CNT_SOCIAL_CIRCLE\"].fillna(mode_)\n",
    "mode_"
   ]
  },
  {
   "cell_type": "code",
   "execution_count": 349,
   "id": "ced1903b",
   "metadata": {},
   "outputs": [
    {
     "data": {
      "text/plain": [
       "TARGET                           int64\n",
       "NAME_CONTRACT_TYPE              object\n",
       "CODE_GENDER                     object\n",
       "FLAG_OWN_CAR                    object\n",
       "FLAG_OWN_REALTY                 object\n",
       "CNT_CHILDREN                     int64\n",
       "NAME_EDUCATION_TYPE             object\n",
       "NAME_FAMILY_STATUS              object\n",
       "NAME_HOUSING_TYPE               object\n",
       "FLAG_MOBIL                       int64\n",
       "FLAG_EMP_PHONE                   int64\n",
       "FLAG_WORK_PHONE                  int64\n",
       "FLAG_CONT_MOBILE                 int64\n",
       "FLAG_PHONE                       int64\n",
       "FLAG_EMAIL                       int64\n",
       "OCCUPATION_TYPE                 object\n",
       "CNT_FAM_MEMBERS                float64\n",
       "REGION_RATING_CLIENT             int64\n",
       "REGION_RATING_CLIENT_W_CITY      int64\n",
       "WEEKDAY_APPR_PROCESS_START      object\n",
       "REG_REGION_NOT_LIVE_REGION       int64\n",
       "REG_REGION_NOT_WORK_REGION       int64\n",
       "LIVE_REGION_NOT_WORK_REGION      int64\n",
       "REG_CITY_NOT_LIVE_CITY           int64\n",
       "REG_CITY_NOT_WORK_CITY           int64\n",
       "LIVE_CITY_NOT_WORK_CITY          int64\n",
       "OBS_30_CNT_SOCIAL_CIRCLE         int32\n",
       "DEF_30_CNT_SOCIAL_CIRCLE         int32\n",
       "OBS_60_CNT_SOCIAL_CIRCLE         int32\n",
       "DEF_60_CNT_SOCIAL_CIRCLE         int32\n",
       "FLAG_DOCUMENT_2                  int64\n",
       "FLAG_DOCUMENT_3                  int64\n",
       "FLAG_DOCUMENT_4                  int64\n",
       "FLAG_DOCUMENT_5                  int64\n",
       "FLAG_DOCUMENT_6                  int64\n",
       "FLAG_DOCUMENT_7                  int64\n",
       "FLAG_DOCUMENT_8                  int64\n",
       "FLAG_DOCUMENT_9                  int64\n",
       "FLAG_DOCUMENT_10                 int64\n",
       "FLAG_DOCUMENT_11                 int64\n",
       "FLAG_DOCUMENT_12                 int64\n",
       "FLAG_DOCUMENT_13                 int64\n",
       "FLAG_DOCUMENT_14                 int64\n",
       "FLAG_DOCUMENT_15                 int64\n",
       "FLAG_DOCUMENT_16                 int64\n",
       "FLAG_DOCUMENT_17                 int64\n",
       "NAME_TYPE_SUITE                 object\n",
       "NAME_INCOME_TYPE                object\n",
       "FLAG_DOCUMENT_18                 int64\n",
       "FLAG_DOCUMENT_19                 int64\n",
       "FLAG_DOCUMENT_20                 int64\n",
       "FLAG_DOCUMENT_21                 int64\n",
       "AMT_REQ_CREDIT_BUREAU_HOUR       int32\n",
       "AMT_REQ_CREDIT_BUREAU_DAY        int32\n",
       "AMT_REQ_CREDIT_BUREAU_WEEK       int32\n",
       "AMT_REQ_CREDIT_BUREAU_MON        int32\n",
       "AMT_REQ_CREDIT_BUREAU_QRT        int32\n",
       "AMT_REQ_CREDIT_BUREAU_YEAR       int32\n",
       "dtype: object"
      ]
     },
     "execution_count": 349,
     "metadata": {},
     "output_type": "execute_result"
    }
   ],
   "source": [
    "df1[cat_col].dtypes"
   ]
  },
  {
   "cell_type": "code",
   "execution_count": 344,
   "id": "8835ce4f",
   "metadata": {},
   "outputs": [
    {
     "data": {
      "text/plain": [
       "TARGET                         0.000000\n",
       "NAME_CONTRACT_TYPE             0.000000\n",
       "CODE_GENDER                    0.000000\n",
       "FLAG_OWN_CAR                   0.000000\n",
       "FLAG_OWN_REALTY                0.000000\n",
       "CNT_CHILDREN                   0.000000\n",
       "NAME_EDUCATION_TYPE            0.000000\n",
       "NAME_FAMILY_STATUS             0.000000\n",
       "NAME_HOUSING_TYPE              0.000000\n",
       "FLAG_MOBIL                     0.000000\n",
       "FLAG_EMP_PHONE                 0.000000\n",
       "FLAG_WORK_PHONE                0.000000\n",
       "FLAG_CONT_MOBILE               0.000000\n",
       "FLAG_PHONE                     0.000000\n",
       "FLAG_EMAIL                     0.000000\n",
       "OCCUPATION_TYPE                0.000000\n",
       "CNT_FAM_MEMBERS                0.000007\n",
       "REGION_RATING_CLIENT           0.000000\n",
       "REGION_RATING_CLIENT_W_CITY    0.000000\n",
       "WEEKDAY_APPR_PROCESS_START     0.000000\n",
       "REG_REGION_NOT_LIVE_REGION     0.000000\n",
       "REG_REGION_NOT_WORK_REGION     0.000000\n",
       "LIVE_REGION_NOT_WORK_REGION    0.000000\n",
       "REG_CITY_NOT_LIVE_CITY         0.000000\n",
       "REG_CITY_NOT_WORK_CITY         0.000000\n",
       "LIVE_CITY_NOT_WORK_CITY        0.000000\n",
       "OBS_30_CNT_SOCIAL_CIRCLE       0.000000\n",
       "DEF_30_CNT_SOCIAL_CIRCLE       0.000000\n",
       "OBS_60_CNT_SOCIAL_CIRCLE       0.000000\n",
       "DEF_60_CNT_SOCIAL_CIRCLE       0.000000\n",
       "FLAG_DOCUMENT_2                0.000000\n",
       "FLAG_DOCUMENT_3                0.000000\n",
       "FLAG_DOCUMENT_4                0.000000\n",
       "FLAG_DOCUMENT_5                0.000000\n",
       "FLAG_DOCUMENT_6                0.000000\n",
       "FLAG_DOCUMENT_7                0.000000\n",
       "FLAG_DOCUMENT_8                0.000000\n",
       "FLAG_DOCUMENT_9                0.000000\n",
       "FLAG_DOCUMENT_10               0.000000\n",
       "FLAG_DOCUMENT_11               0.000000\n",
       "FLAG_DOCUMENT_12               0.000000\n",
       "FLAG_DOCUMENT_13               0.000000\n",
       "FLAG_DOCUMENT_14               0.000000\n",
       "FLAG_DOCUMENT_15               0.000000\n",
       "FLAG_DOCUMENT_16               0.000000\n",
       "FLAG_DOCUMENT_17               0.000000\n",
       "NAME_TYPE_SUITE                0.004201\n",
       "NAME_INCOME_TYPE               0.000000\n",
       "FLAG_DOCUMENT_18               0.000000\n",
       "FLAG_DOCUMENT_19               0.000000\n",
       "FLAG_DOCUMENT_20               0.000000\n",
       "FLAG_DOCUMENT_21               0.000000\n",
       "AMT_REQ_CREDIT_BUREAU_HOUR     0.000000\n",
       "AMT_REQ_CREDIT_BUREAU_DAY      0.000000\n",
       "AMT_REQ_CREDIT_BUREAU_WEEK     0.000000\n",
       "AMT_REQ_CREDIT_BUREAU_MON      0.000000\n",
       "AMT_REQ_CREDIT_BUREAU_QRT      0.000000\n",
       "AMT_REQ_CREDIT_BUREAU_YEAR     0.000000\n",
       "dtype: float64"
      ]
     },
     "execution_count": 344,
     "metadata": {},
     "output_type": "execute_result"
    }
   ],
   "source": [
    "df1[cat_col].isnull().sum()/307511"
   ]
  },
  {
   "cell_type": "code",
   "execution_count": null,
   "id": "442d1d1b",
   "metadata": {},
   "outputs": [],
   "source": [
    "## CHANGING THE DATATYPES"
   ]
  },
  {
   "cell_type": "code",
   "execution_count": 345,
   "id": "323e62c4",
   "metadata": {},
   "outputs": [
    {
     "data": {
      "text/plain": [
       "Index(['AMT_INCOME_TOTAL', 'AMT_CREDIT', 'AMT_ANNUITY', 'AMT_GOODS_PRICE',\n",
       "       'REGION_POPULATION_RELATIVE', 'DAYS_REGISTRATION', 'CNT_FAM_MEMBERS',\n",
       "       'EXT_SOURCE_2', 'EXT_SOURCE_3', 'OBS_30_CNT_SOCIAL_CIRCLE',\n",
       "       'DEF_30_CNT_SOCIAL_CIRCLE', 'OBS_60_CNT_SOCIAL_CIRCLE',\n",
       "       'DEF_60_CNT_SOCIAL_CIRCLE', 'DAYS_LAST_PHONE_CHANGE',\n",
       "       'AMT_REQ_CREDIT_BUREAU_HOUR', 'AMT_REQ_CREDIT_BUREAU_DAY',\n",
       "       'AMT_REQ_CREDIT_BUREAU_WEEK', 'AMT_REQ_CREDIT_BUREAU_MON',\n",
       "       'AMT_REQ_CREDIT_BUREAU_QRT', 'AMT_REQ_CREDIT_BUREAU_YEAR'],\n",
       "      dtype='object')"
      ]
     },
     "execution_count": 345,
     "metadata": {},
     "output_type": "execute_result"
    }
   ],
   "source": [
    "df1.select_dtypes(include='float64').columns"
   ]
  },
  {
   "cell_type": "code",
   "execution_count": 346,
   "id": "30c9aeec",
   "metadata": {},
   "outputs": [],
   "source": [
    "ColumnToConvert = ['OBS_30_CNT_SOCIAL_CIRCLE', 'DEF_30_CNT_SOCIAL_CIRCLE', 'OBS_60_CNT_SOCIAL_CIRCLE',\n",
    "                   'DEF_60_CNT_SOCIAL_CIRCLE', 'DAYS_LAST_PHONE_CHANGE', 'AMT_REQ_CREDIT_BUREAU_HOUR',\n",
    "                   'AMT_REQ_CREDIT_BUREAU_DAY', 'AMT_REQ_CREDIT_BUREAU_WEEK', 'AMT_REQ_CREDIT_BUREAU_MON',\n",
    "                   'AMT_REQ_CREDIT_BUREAU_QRT', 'AMT_REQ_CREDIT_BUREAU_YEAR']\n",
    "df1.loc[:,ColumnToConvert]=df1.loc[:,ColumnToConvert].apply(lambda col: col.astype('int',errors='ignore'))"
   ]
  },
  {
   "cell_type": "code",
   "execution_count": 348,
   "id": "638223a3",
   "metadata": {},
   "outputs": [
    {
     "data": {
      "text/plain": [
       "dtype('int32')"
      ]
     },
     "execution_count": 348,
     "metadata": {},
     "output_type": "execute_result"
    }
   ],
   "source": [
    "df1[\"OBS_30_CNT_SOCIAL_CIRCLE\"].dtype"
   ]
  },
  {
   "cell_type": "code",
   "execution_count": 350,
   "id": "cf6c6a9c",
   "metadata": {},
   "outputs": [
    {
     "data": {
      "text/plain": [
       "dtype('int64')"
      ]
     },
     "execution_count": 350,
     "metadata": {},
     "output_type": "execute_result"
    }
   ],
   "source": [
    "df1[\"DAYS_BIRTH\"].dtype"
   ]
  },
  {
   "cell_type": "code",
   "execution_count": 351,
   "id": "84219fbe",
   "metadata": {},
   "outputs": [],
   "source": [
    "df1[\"AGE\"]=abs(df1[\"DAYS_BIRTH\"])//365.25   ## to calculate age from the days of birth variable\n"
   ]
  },
  {
   "cell_type": "code",
   "execution_count": 352,
   "id": "508358dc",
   "metadata": {},
   "outputs": [
    {
     "data": {
      "text/plain": [
       "count    307511.000000\n",
       "mean         43.405137\n",
       "std          11.945779\n",
       "min          20.000000\n",
       "25%          33.000000\n",
       "50%          43.000000\n",
       "75%          53.000000\n",
       "max          69.000000\n",
       "Name: AGE, dtype: float64"
      ]
     },
     "execution_count": 352,
     "metadata": {},
     "output_type": "execute_result"
    }
   ],
   "source": [
    "df1[\"AGE\"].describe()"
   ]
  },
  {
   "cell_type": "code",
   "execution_count": 408,
   "id": "3d06cd43",
   "metadata": {},
   "outputs": [
    {
     "data": {
      "text/plain": [
       "F      202448\n",
       "M      105059\n",
       "XNA         4\n",
       "Name: CODE_GENDER, dtype: int64"
      ]
     },
     "execution_count": 408,
     "metadata": {},
     "output_type": "execute_result"
    }
   ],
   "source": [
    "df1.CODE_GENDER.value_counts()"
   ]
  },
  {
   "cell_type": "code",
   "execution_count": 409,
   "id": "573b2655",
   "metadata": {},
   "outputs": [
    {
     "data": {
      "text/plain": [
       "F    202452\n",
       "M    105059\n",
       "Name: CODE_GENDER, dtype: int64"
      ]
     },
     "execution_count": 409,
     "metadata": {},
     "output_type": "execute_result"
    }
   ],
   "source": [
    "df1.loc[df1.CODE_GENDER == 'XNA','CODE_GENDER'] = 'F'\n",
    "df1.CODE_GENDER.value_counts()"
   ]
  },
  {
   "cell_type": "code",
   "execution_count": null,
   "id": "fdab5311",
   "metadata": {},
   "outputs": [],
   "source": [
    "## PLOTTING ALL THE CONTINUOUS VARIABLES TO IDENTIFY OUTLIERS"
   ]
  },
  {
   "cell_type": "code",
   "execution_count": 356,
   "id": "a52b87e2",
   "metadata": {},
   "outputs": [
    {
     "data": {
      "image/png": "[encoded data removed]",
      "text/plain": [
       "<Figure size 432x288 with 1 Axes>"
      ]
     },
     "metadata": {
      "needs_background": "light"
     },
     "output_type": "display_data"
    },
    {
     "data": {
      "image/png": "[encoded data removed]",
      "text/plain": [
       "<Figure size 432x288 with 1 Axes>"
      ]
     },
     "metadata": {
      "needs_background": "light"
     },
     "output_type": "display_data"
    },
    {
     "data": {
      "image/png": "[encoded data removed]",
      "text/plain": [
       "<Figure size 432x288 with 1 Axes>"
      ]
     },
     "metadata": {
      "needs_background": "light"
     },
     "output_type": "display_data"
    },
    {
     "data": {
      "image/png": "[encoded data removed]",
      "text/plain": [
       "<Figure size 432x288 with 1 Axes>"
      ]
     },
     "metadata": {
      "needs_background": "light"
     },
     "output_type": "display_data"
    },
    {
     "data": {
      "image/png": "[encoded data removed]",
      "text/plain": [
       "<Figure size 432x288 with 1 Axes>"
      ]
     },
     "metadata": {
      "needs_background": "light"
     },
     "output_type": "display_data"
    },
    {
     "data": {
      "image/png": "[encoded data removed]",
      "text/plain": [
       "<Figure size 432x288 with 1 Axes>"
      ]
     },
     "metadata": {
      "needs_background": "light"
     },
     "output_type": "display_data"
    },
    {
     "data": {
      "image/png": "[encoded data removed]",
      "text/plain": [
       "<Figure size 432x288 with 1 Axes>"
      ]
     },
     "metadata": {
      "needs_background": "light"
     },
     "output_type": "display_data"
    },
    {
     "data": {
      "image/png": "[encoded data removed]",
      "text/plain": [
       "<Figure size 432x288 with 1 Axes>"
      ]
     },
     "metadata": {
      "needs_background": "light"
     },
     "output_type": "display_data"
    },
    {
     "data": {
      "image/png": "[encoded data removed]",
      "text/plain": [
       "<Figure size 432x288 with 1 Axes>"
      ]
     },
     "metadata": {
      "needs_background": "light"
     },
     "output_type": "display_data"
    },
    {
     "data": {
      "image/png": "[encoded data removed]",
      "text/plain": [
       "<Figure size 432x288 with 1 Axes>"
      ]
     },
     "metadata": {
      "needs_background": "light"
     },
     "output_type": "display_data"
    }
   ],
   "source": [
    "cont_col=['AMT_INCOME_TOTAL','AMT_CREDIT', 'AMT_ANNUITY','AGE','DAYS_EMPLOYED','DAYS_REGISTRATION','EXT_SOURCE_3', 'EXT_SOURCE_2', 'DAYS_LAST_PHONE_CHANGE','HOUR_APPR_PROCESS_START']\n",
    "          \n",
    "          \n",
    "for i in cont_col:\n",
    "    sns.boxplot(df1[i])\n",
    "    plt.show()"
   ]
  },
  {
   "cell_type": "code",
   "execution_count": null,
   "id": "8bfd0279",
   "metadata": {},
   "outputs": [],
   "source": [
    "###               OUTLIER TREATMENT"
   ]
  },
  {
   "cell_type": "code",
   "execution_count": null,
   "id": "0c33b2cf",
   "metadata": {},
   "outputs": [],
   "source": []
  },
  {
   "cell_type": "code",
   "execution_count": null,
   "id": "23cb16fe",
   "metadata": {},
   "outputs": [],
   "source": [
    "##Outlier_treat =[\"'AMT_INCOME_TOTAL','AMT_CREDIT', 'AMT_ANNUITY','DAYS_EMPLOYED','DAYS_REGISTRATION','DAYS_LAST_PHONE_CHANGE','HOUR_APPR_PROCESS_START']\"]"
   ]
  },
  {
   "cell_type": "code",
   "execution_count": null,
   "id": "d2176db3",
   "metadata": {},
   "outputs": [],
   "source": [
    "filter_col = [col for col in df1 if col.startswith('DAYS')]\n",
    "filter_col\n"
   ]
  },
  {
   "cell_type": "code",
   "execution_count": 358,
   "id": "b90b1208",
   "metadata": {},
   "outputs": [
    {
     "name": "stdout",
     "output_type": "stream",
     "text": [
      "[25. 45. 52. 54. 46. 37. 51. 55. 39. 27. 36. 38. 23. 35. 26. 48. 31. 49.\n",
      " 40. 30. 67. 43. 28. 41. 32. 33. 47. 57. 65. 44. 64. 21. 50. 59. 56. 62.\n",
      " 53. 42. 29. 63. 34. 61. 58. 60. 68. 22. 24. 66. 20. 69.]\n",
      "[  637  1188   225 ... 12971 11084  8694]\n",
      "[ 3648.  1186.  4260. ... 16396. 14558. 14798.]\n",
      "[2120  291 2531 ... 6194 5854 6211]\n",
      "[1134  828  815 ... 3988 3899 3538]\n"
     ]
    }
   ],
   "source": [
    "df1[filter_col]= abs(df1[filter_col])\n",
    "print(df1['AGE'].unique())\n",
    "print(df1['DAYS_EMPLOYED'].unique())\n",
    "print(df1['DAYS_REGISTRATION'].unique())\n",
    "print(df1['DAYS_ID_PUBLISH'].unique())\n",
    "print(df1['DAYS_LAST_PHONE_CHANGE'].unique())"
   ]
  },
  {
   "cell_type": "code",
   "execution_count": 360,
   "id": "6b03fd7e",
   "metadata": {},
   "outputs": [
    {
     "data": {
      "text/plain": [
       "count    3.075110e+05\n",
       "mean     1.687979e+05\n",
       "std      2.371231e+05\n",
       "min      2.565000e+04\n",
       "25%      1.125000e+05\n",
       "50%      1.471500e+05\n",
       "75%      2.025000e+05\n",
       "max      1.170000e+08\n",
       "Name: AMT_INCOME_TOTAL, dtype: float64"
      ]
     },
     "execution_count": 360,
     "metadata": {},
     "output_type": "execute_result"
    }
   ],
   "source": [
    "df1[\"AMT_INCOME_TOTAL\"].describe()"
   ]
  },
  {
   "cell_type": "code",
   "execution_count": 361,
   "id": "337060d8",
   "metadata": {},
   "outputs": [
    {
     "data": {
      "text/plain": [
       "(22500.0, 337500.0)"
      ]
     },
     "execution_count": 361,
     "metadata": {},
     "output_type": "execute_result"
    }
   ],
   "source": [
    "q1=1.125000e+05\n",
    "q2=1.471500e+05\n",
    "q3=2.025000e+05\n",
    "iqr=q3-q1\n",
    "upper_bound=q3+1.5*iqr\n",
    "lower_bound=abs(q1-1.5*iqr)\n",
    "lower_bound,upper_bound"
   ]
  },
  {
   "cell_type": "code",
   "execution_count": 365,
   "id": "77dc65b7",
   "metadata": {},
   "outputs": [
    {
     "data": {
      "text/plain": [
       "7         360000.0\n",
       "22        450000.0\n",
       "33        360000.0\n",
       "49        360000.0\n",
       "51        540000.0\n",
       "            ...   \n",
       "307460    382500.0\n",
       "307477    360000.0\n",
       "307484    540000.0\n",
       "307492    585000.0\n",
       "307496    360000.0\n",
       "Name: AMT_INCOME_TOTAL, Length: 14035, dtype: float64"
      ]
     },
     "execution_count": 365,
     "metadata": {},
     "output_type": "execute_result"
    }
   ],
   "source": [
    "df1[df1[\"AMT_INCOME_TOTAL\"]>upper_bound][\"AMT_INCOME_TOTAL\"]"
   ]
  },
  {
   "cell_type": "code",
   "execution_count": 366,
   "id": "aab1b6aa",
   "metadata": {},
   "outputs": [],
   "source": [
    "df1[\"AMT_INCOME_TOTAL\"]=np.where(df1[\"AMT_INCOME_TOTAL\"]>upper_bound,upper_bound,df1[\"AMT_INCOME_TOTAL\"])"
   ]
  },
  {
   "cell_type": "code",
   "execution_count": 367,
   "id": "0dcfee7c",
   "metadata": {},
   "outputs": [
    {
     "data": {
      "text/plain": [
       "Series([], Name: AMT_INCOME_TOTAL, dtype: float64)"
      ]
     },
     "execution_count": 367,
     "metadata": {},
     "output_type": "execute_result"
    }
   ],
   "source": [
    "df1[df1[\"AMT_INCOME_TOTAL\"]<lower_bound][\"AMT_INCOME_TOTAL\"]"
   ]
  },
  {
   "cell_type": "code",
   "execution_count": 368,
   "id": "28e9c417",
   "metadata": {},
   "outputs": [
    {
     "data": {
      "text/plain": [
       "<AxesSubplot:xlabel='AMT_INCOME_TOTAL'>"
      ]
     },
     "execution_count": 368,
     "metadata": {},
     "output_type": "execute_result"
    },
    {
     "data": {
      "image/png": "[encoded data removed]",
      "text/plain": [
       "<Figure size 432x288 with 1 Axes>"
      ]
     },
     "metadata": {
      "needs_background": "light"
     },
     "output_type": "display_data"
    }
   ],
   "source": [
    "sns.boxplot(df1[\"AMT_INCOME_TOTAL\"])"
   ]
  },
  {
   "cell_type": "code",
   "execution_count": 369,
   "id": "a8a73325",
   "metadata": {},
   "outputs": [
    {
     "data": {
      "text/plain": [
       "count    307511.000000\n",
       "mean     298802.601917\n",
       "std       67550.390569\n",
       "min       45000.000000\n",
       "25%      270000.000000\n",
       "50%      337500.000000\n",
       "75%      337500.000000\n",
       "max      337500.000000\n",
       "Name: AMT_CREDIT, dtype: float64"
      ]
     },
     "execution_count": 369,
     "metadata": {},
     "output_type": "execute_result"
    }
   ],
   "source": [
    "df1[\"AMT_CREDIT\"].describe()"
   ]
  },
  {
   "cell_type": "code",
   "execution_count": 371,
   "id": "07f0162c",
   "metadata": {},
   "outputs": [
    {
     "data": {
      "text/plain": [
       "(168750.0, 438750.0)"
      ]
     },
     "execution_count": 371,
     "metadata": {},
     "output_type": "execute_result"
    }
   ],
   "source": [
    "q1=270000.000000\n",
    "q2=337500.000000\n",
    "q3=337500.000000\n",
    "iqr=q3-q1\n",
    "upper_bound=q3+1.5*iqr\n",
    "lower_bound=abs(q1-1.5*iqr)\n",
    "lower_bound,upper_bound"
   ]
  },
  {
   "cell_type": "code",
   "execution_count": 372,
   "id": "339e1213",
   "metadata": {},
   "outputs": [
    {
     "data": {
      "text/plain": [
       "Series([], Name: AMT_CREDIT, dtype: float64)"
      ]
     },
     "execution_count": 372,
     "metadata": {},
     "output_type": "execute_result"
    }
   ],
   "source": [
    "df1[df1[\"AMT_CREDIT\"]>upper_bound][\"AMT_CREDIT\"]"
   ]
  },
  {
   "cell_type": "code",
   "execution_count": 373,
   "id": "691e33ca",
   "metadata": {},
   "outputs": [
    {
     "data": {
      "text/plain": [
       "2         135000.0\n",
       "11        148365.0\n",
       "12         80865.0\n",
       "18        157500.0\n",
       "50        135000.0\n",
       "            ...   \n",
       "307433    113760.0\n",
       "307434    163098.0\n",
       "307442     90000.0\n",
       "307488    135000.0\n",
       "307490    135000.0\n",
       "Name: AMT_CREDIT, Length: 23705, dtype: float64"
      ]
     },
     "execution_count": 373,
     "metadata": {},
     "output_type": "execute_result"
    }
   ],
   "source": [
    "df1[df1[\"AMT_CREDIT\"]<lower_bound][\"AMT_CREDIT\"]"
   ]
  },
  {
   "cell_type": "code",
   "execution_count": 374,
   "id": "94e6c04d",
   "metadata": {},
   "outputs": [],
   "source": [
    "df1[\"AMT_CREDIT\"]=np.where(df1[\"AMT_CREDIT\"]>upper_bound,upper_bound,df1[\"AMT_CREDIT\"])"
   ]
  },
  {
   "cell_type": "code",
   "execution_count": 375,
   "id": "4d76caac",
   "metadata": {},
   "outputs": [],
   "source": [
    "df1[\"AMT_CREDIT\"]=np.where(df1[\"AMT_CREDIT\"]<lower_bound,lower_bound,df1[\"AMT_CREDIT\"])"
   ]
  },
  {
   "cell_type": "code",
   "execution_count": 376,
   "id": "fa4e7b23",
   "metadata": {},
   "outputs": [
    {
     "data": {
      "text/plain": [
       "<AxesSubplot:xlabel='AMT_CREDIT'>"
      ]
     },
     "execution_count": 376,
     "metadata": {},
     "output_type": "execute_result"
    },
    {
     "data": {
      "image/png": "[encoded data removed]",
      "text/plain": [
       "<Figure size 432x288 with 1 Axes>"
      ]
     },
     "metadata": {
      "needs_background": "light"
     },
     "output_type": "display_data"
    }
   ],
   "source": [
    "sns.boxplot(df1[\"AMT_CREDIT\"])"
   ]
  },
  {
   "cell_type": "code",
   "execution_count": 377,
   "id": "8fe3d6ff",
   "metadata": {},
   "outputs": [
    {
     "data": {
      "text/plain": [
       "count    307511.000000\n",
       "mean      27108.487841\n",
       "std       14493.461065\n",
       "min        1615.500000\n",
       "25%       16524.000000\n",
       "50%       24903.000000\n",
       "75%       34596.000000\n",
       "max      258025.500000\n",
       "Name: AMT_ANNUITY, dtype: float64"
      ]
     },
     "execution_count": 377,
     "metadata": {},
     "output_type": "execute_result"
    }
   ],
   "source": [
    "df1[\"AMT_ANNUITY\"].describe()"
   ]
  },
  {
   "cell_type": "code",
   "execution_count": 378,
   "id": "4d9adb2d",
   "metadata": {},
   "outputs": [
    {
     "data": {
      "text/plain": [
       "(10584.0, 61704.0)"
      ]
     },
     "execution_count": 378,
     "metadata": {},
     "output_type": "execute_result"
    }
   ],
   "source": [
    "q1=16524.000000\n",
    "q2=24903.000000\n",
    "q3=34596.000000\n",
    "iqr=q3-q1\n",
    "upper_bound=q3+1.5*iqr\n",
    "lower_bound=abs(q1-1.5*iqr)\n",
    "lower_bound,upper_bound"
   ]
  },
  {
   "cell_type": "code",
   "execution_count": 379,
   "id": "4ab7dd0a",
   "metadata": {},
   "outputs": [
    {
     "data": {
      "text/plain": [
       "60        86989.5\n",
       "94        64107.0\n",
       "112       73611.0\n",
       "189       83515.5\n",
       "191       77494.5\n",
       "           ...   \n",
       "307120    61920.0\n",
       "307165    71986.5\n",
       "307374    66757.5\n",
       "307392    77809.5\n",
       "307422    68643.0\n",
       "Name: AMT_ANNUITY, Length: 7504, dtype: float64"
      ]
     },
     "execution_count": 379,
     "metadata": {},
     "output_type": "execute_result"
    }
   ],
   "source": [
    "df1[df1[\"AMT_ANNUITY\"]>upper_bound][\"AMT_ANNUITY\"]"
   ]
  },
  {
   "cell_type": "code",
   "execution_count": 380,
   "id": "933e2edb",
   "metadata": {},
   "outputs": [],
   "source": [
    "df1[\"AMT_ANNUITY\"]=np.where(df1[\"AMT_ANNUITY\"]>upper_bound,upper_bound,df1[\"AMT_ANNUITY\"])"
   ]
  },
  {
   "cell_type": "code",
   "execution_count": 381,
   "id": "0152fe80",
   "metadata": {},
   "outputs": [
    {
     "data": {
      "text/plain": [
       "2          6750.0\n",
       "12         5881.5\n",
       "18         7875.0\n",
       "29         9000.0\n",
       "45         9000.0\n",
       "           ...   \n",
       "307433     7731.0\n",
       "307442     9580.5\n",
       "307470    10309.5\n",
       "307485     9000.0\n",
       "307490     9148.5\n",
       "Name: AMT_ANNUITY, Length: 28022, dtype: float64"
      ]
     },
     "execution_count": 381,
     "metadata": {},
     "output_type": "execute_result"
    }
   ],
   "source": [
    "df1[df1[\"AMT_ANNUITY\"]<lower_bound][\"AMT_ANNUITY\"]"
   ]
  },
  {
   "cell_type": "code",
   "execution_count": 382,
   "id": "7cb09462",
   "metadata": {},
   "outputs": [],
   "source": [
    "df1[\"AMT_ANNUITY\"]=np.where(df1[\"AMT_ANNUITY\"]<lower_bound,lower_bound,df1[\"AMT_ANNUITY\"])"
   ]
  },
  {
   "cell_type": "code",
   "execution_count": 383,
   "id": "3de8b379",
   "metadata": {},
   "outputs": [
    {
     "data": {
      "text/plain": [
       "<AxesSubplot:xlabel='AMT_ANNUITY'>"
      ]
     },
     "execution_count": 383,
     "metadata": {},
     "output_type": "execute_result"
    },
    {
     "data": {
      "image/png": "[encoded data removed]",
      "text/plain": [
       "<Figure size 432x288 with 1 Axes>"
      ]
     },
     "metadata": {
      "needs_background": "light"
     },
     "output_type": "display_data"
    }
   ],
   "source": [
    "sns.boxplot(df1[\"AMT_ANNUITY\"])"
   ]
  },
  {
   "cell_type": "code",
   "execution_count": 384,
   "id": "5c7d36f6",
   "metadata": {},
   "outputs": [
    {
     "data": {
      "text/plain": [
       "count    307511.000000\n",
       "mean      67724.742149\n",
       "std      139443.751806\n",
       "min           0.000000\n",
       "25%         933.000000\n",
       "50%        2219.000000\n",
       "75%        5707.000000\n",
       "max      365243.000000\n",
       "Name: DAYS_EMPLOYED, dtype: float64"
      ]
     },
     "execution_count": 384,
     "metadata": {},
     "output_type": "execute_result"
    }
   ],
   "source": [
    "df1[\"DAYS_EMPLOYED\"].describe()"
   ]
  },
  {
   "cell_type": "code",
   "execution_count": 385,
   "id": "57340cd1",
   "metadata": {},
   "outputs": [
    {
     "data": {
      "text/plain": [
       "(547864.5, 913107.5)"
      ]
     },
     "execution_count": 385,
     "metadata": {},
     "output_type": "execute_result"
    }
   ],
   "source": [
    "q1=0.000000\n",
    "q2=933.000000\n",
    "q3=365243.000000\n",
    "iqr=q3-q1\n",
    "upper_bound=q3+1.5*iqr\n",
    "lower_bound=abs(q1-1.5*iqr)\n",
    "lower_bound,upper_bound"
   ]
  },
  {
   "cell_type": "code",
   "execution_count": 386,
   "id": "13c41457",
   "metadata": {},
   "outputs": [
    {
     "data": {
      "text/plain": [
       "Series([], Name: DAYS_EMPLOYED, dtype: int64)"
      ]
     },
     "execution_count": 386,
     "metadata": {},
     "output_type": "execute_result"
    }
   ],
   "source": [
    "df1[df1[\"DAYS_EMPLOYED\"]>upper_bound][\"DAYS_EMPLOYED\"]"
   ]
  },
  {
   "cell_type": "code",
   "execution_count": 387,
   "id": "4af4cbf4",
   "metadata": {},
   "outputs": [
    {
     "data": {
      "text/plain": [
       "0            637\n",
       "1           1188\n",
       "2            225\n",
       "3           3039\n",
       "4           3038\n",
       "           ...  \n",
       "307506       236\n",
       "307507    365243\n",
       "307508      7921\n",
       "307509      4786\n",
       "307510      1262\n",
       "Name: DAYS_EMPLOYED, Length: 307511, dtype: int64"
      ]
     },
     "execution_count": 387,
     "metadata": {},
     "output_type": "execute_result"
    }
   ],
   "source": [
    "df1[df1[\"DAYS_EMPLOYED\"]<lower_bound][\"DAYS_EMPLOYED\"]"
   ]
  },
  {
   "cell_type": "code",
   "execution_count": 388,
   "id": "7b708e5a",
   "metadata": {},
   "outputs": [],
   "source": [
    "df1[\"DAYS_EMPLOYED\"]=np.where(df1[\"DAYS_EMPLOYED\"]>upper_bound,upper_bound,df1[\"DAYS_EMPLOYED\"])"
   ]
  },
  {
   "cell_type": "code",
   "execution_count": 389,
   "id": "d48afcf1",
   "metadata": {},
   "outputs": [],
   "source": [
    "df1[\"DAYS_EMPLOYED\"]=np.where(df1[\"DAYS_EMPLOYED\"]<lower_bound,lower_bound,df1[\"DAYS_EMPLOYED\"])"
   ]
  },
  {
   "cell_type": "code",
   "execution_count": 390,
   "id": "70678b2f",
   "metadata": {},
   "outputs": [
    {
     "data": {
      "text/plain": [
       "<AxesSubplot:xlabel='DAYS_EMPLOYED'>"
      ]
     },
     "execution_count": 390,
     "metadata": {},
     "output_type": "execute_result"
    },
    {
     "data": {
      "image/png": "[encoded data removed]",
      "text/plain": [
       "<Figure size 432x288 with 1 Axes>"
      ]
     },
     "metadata": {
      "needs_background": "light"
     },
     "output_type": "display_data"
    }
   ],
   "source": [
    "sns.boxplot(df1[\"DAYS_EMPLOYED\"])"
   ]
  },
  {
   "cell_type": "code",
   "execution_count": 391,
   "id": "68c84f55",
   "metadata": {},
   "outputs": [
    {
     "data": {
      "text/plain": [
       "count    307511.000000\n",
       "mean       4986.120328\n",
       "std        3522.886321\n",
       "min           0.000000\n",
       "25%        2010.000000\n",
       "50%        4504.000000\n",
       "75%        7479.500000\n",
       "max       24672.000000\n",
       "Name: DAYS_REGISTRATION, dtype: float64"
      ]
     },
     "execution_count": 391,
     "metadata": {},
     "output_type": "execute_result"
    }
   ],
   "source": [
    "df1[\"DAYS_REGISTRATION\"].describe()"
   ]
  },
  {
   "cell_type": "code",
   "execution_count": 392,
   "id": "2a0ffafb",
   "metadata": {},
   "outputs": [
    {
     "data": {
      "text/plain": [
       "(11219.25, 18698.75)"
      ]
     },
     "execution_count": 392,
     "metadata": {},
     "output_type": "execute_result"
    }
   ],
   "source": [
    "q1=-0.000000\n",
    "q2=-4504.000000\n",
    "q3=-7479.500000\n",
    "iqr=q3-q1\n",
    "upper_bound=abs(q3+1.5*iqr)\n",
    "lower_bound=abs(q1-1.5*iqr)\n",
    "lower_bound,upper_bound"
   ]
  },
  {
   "cell_type": "code",
   "execution_count": 393,
   "id": "4eb07614",
   "metadata": {},
   "outputs": [
    {
     "data": {
      "text/plain": [
       "0         3648.0\n",
       "1         1186.0\n",
       "2         4260.0\n",
       "3         9833.0\n",
       "4         4311.0\n",
       "           ...  \n",
       "307506    8456.0\n",
       "307507    4388.0\n",
       "307508    6737.0\n",
       "307509    2562.0\n",
       "307510    5128.0\n",
       "Name: DAYS_REGISTRATION, Length: 290679, dtype: float64"
      ]
     },
     "execution_count": 393,
     "metadata": {},
     "output_type": "execute_result"
    }
   ],
   "source": [
    "df1[df1[\"DAYS_REGISTRATION\"]<lower_bound][\"DAYS_REGISTRATION\"]"
   ]
  },
  {
   "cell_type": "code",
   "execution_count": 394,
   "id": "96acf49e",
   "metadata": {},
   "outputs": [
    {
     "data": {
      "text/plain": [
       "2680      20981.0\n",
       "10300     18761.0\n",
       "19236     18758.0\n",
       "20555     19344.0\n",
       "21990     21244.0\n",
       "27531     20452.0\n",
       "33939     20447.0\n",
       "34343     19244.0\n",
       "41442     21249.0\n",
       "43581     19488.0\n",
       "44824     22392.0\n",
       "45121     20571.0\n",
       "50148     19706.0\n",
       "68403     20838.0\n",
       "74685     19636.0\n",
       "75227     20560.0\n",
       "93123     20516.0\n",
       "94098     22113.0\n",
       "95342     21887.0\n",
       "99788     19159.0\n",
       "118360    19207.0\n",
       "119165    19463.0\n",
       "129516    20840.0\n",
       "136858    19660.0\n",
       "147595    20569.0\n",
       "151533    22701.0\n",
       "151696    19152.0\n",
       "153731    21865.0\n",
       "155822    18718.0\n",
       "161470    20701.0\n",
       "163628    23738.0\n",
       "170854    19040.0\n",
       "174336    19579.0\n",
       "189491    20136.0\n",
       "191360    19027.0\n",
       "194676    20841.0\n",
       "197897    18928.0\n",
       "210943    22858.0\n",
       "212205    19504.0\n",
       "212224    19424.0\n",
       "213929    20741.0\n",
       "217193    18864.0\n",
       "221818    20096.0\n",
       "234093    24672.0\n",
       "246055    18926.0\n",
       "249436    23416.0\n",
       "256131    19134.0\n",
       "259119    19985.0\n",
       "261446    19695.0\n",
       "269250    20623.0\n",
       "269381    19513.0\n",
       "278457    19265.0\n",
       "282370    21146.0\n",
       "289176    22928.0\n",
       "289957    19370.0\n",
       "295688    19795.0\n",
       "298429    22442.0\n",
       "299743    20514.0\n",
       "301029    19170.0\n",
       "303945    19183.0\n",
       "Name: DAYS_REGISTRATION, dtype: float64"
      ]
     },
     "execution_count": 394,
     "metadata": {},
     "output_type": "execute_result"
    }
   ],
   "source": [
    "df1[df1[\"DAYS_REGISTRATION\"]>upper_bound][\"DAYS_REGISTRATION\"]"
   ]
  },
  {
   "cell_type": "code",
   "execution_count": 396,
   "id": "ff5c3d73",
   "metadata": {},
   "outputs": [],
   "source": [
    "df1[\"DAYS_REGISTRATION\"]=np.where(df1[\"DAYS_REGISTRATION\"]>upper_bound,upper_bound,df1[\"DAYS_REGISTRATION\"])\n",
    "df1[\"DAYS_REGISTRATION\"]=np.where(df1[\"DAYS_REGISTRATION\"]<lower_bound,lower_bound,df1[\"DAYS_REGISTRATION\"])"
   ]
  },
  {
   "cell_type": "code",
   "execution_count": 397,
   "id": "2a3056fd",
   "metadata": {},
   "outputs": [
    {
     "data": {
      "text/plain": [
       "<AxesSubplot:xlabel='DAYS_REGISTRATION'>"
      ]
     },
     "execution_count": 397,
     "metadata": {},
     "output_type": "execute_result"
    },
    {
     "data": {
      "image/png": "[encoded data removed]",
      "text/plain": [
       "<Figure size 432x288 with 1 Axes>"
      ]
     },
     "metadata": {
      "needs_background": "light"
     },
     "output_type": "display_data"
    }
   ],
   "source": [
    "sns.boxplot(df1[\"DAYS_REGISTRATION\"])"
   ]
  },
  {
   "cell_type": "code",
   "execution_count": 399,
   "id": "404b5f6f",
   "metadata": {},
   "outputs": [
    {
     "data": {
      "text/plain": [
       "count    307511.000000\n",
       "mean          0.510853\n",
       "std           0.174464\n",
       "min           0.000527\n",
       "25%           0.417100\n",
       "50%           0.510853\n",
       "75%           0.636376\n",
       "max           0.896010\n",
       "Name: EXT_SOURCE_3, dtype: float64"
      ]
     },
     "execution_count": 399,
     "metadata": {},
     "output_type": "execute_result"
    }
   ],
   "source": [
    "df1[\"EXT_SOURCE_3\"].describe()"
   ]
  },
  {
   "cell_type": "code",
   "execution_count": 400,
   "id": "0e6fd008",
   "metadata": {},
   "outputs": [
    {
     "data": {
      "text/plain": [
       "(0.08818599999999999, 0.9652900000000001)"
      ]
     },
     "execution_count": 400,
     "metadata": {},
     "output_type": "execute_result"
    }
   ],
   "source": [
    "q1=0.417100\n",
    "q2=0.510853\n",
    "q3=0.636376\n",
    "iqr=q3-q1\n",
    "upper_bound=q3+1.5*iqr\n",
    "lower_bound=abs(q1-1.5*iqr)\n",
    "lower_bound,upper_bound"
   ]
  },
  {
   "cell_type": "code",
   "execution_count": 401,
   "id": "e5f9caba",
   "metadata": {},
   "outputs": [
    {
     "data": {
      "text/plain": [
       "Series([], Name: EXT_SOURCE_3, dtype: float64)"
      ]
     },
     "execution_count": 401,
     "metadata": {},
     "output_type": "execute_result"
    }
   ],
   "source": [
    "df1[df1[\"EXT_SOURCE_3\"]>upper_bound][\"EXT_SOURCE_3\"]\n"
   ]
  },
  {
   "cell_type": "code",
   "execution_count": 402,
   "id": "5d6fbacc",
   "metadata": {},
   "outputs": [
    {
     "data": {
      "text/plain": [
       "16        0.062103\n",
       "55        0.070109\n",
       "94        0.077499\n",
       "98        0.071055\n",
       "100       0.077499\n",
       "            ...   \n",
       "307097    0.085595\n",
       "307133    0.075461\n",
       "307229    0.055711\n",
       "307294    0.045992\n",
       "307340    0.046951\n",
       "Name: EXT_SOURCE_3, Length: 4313, dtype: float64"
      ]
     },
     "execution_count": 402,
     "metadata": {},
     "output_type": "execute_result"
    }
   ],
   "source": [
    "df1[df1[\"EXT_SOURCE_3\"]<lower_bound][\"EXT_SOURCE_3\"]"
   ]
  },
  {
   "cell_type": "code",
   "execution_count": 403,
   "id": "2d8d441e",
   "metadata": {},
   "outputs": [],
   "source": [
    "df1[\"EXT_SOURCE_3\"]=np.where(df1[\"EXT_SOURCE_3\"]<lower_bound,lower_bound,df1[\"EXT_SOURCE_3\"])"
   ]
  },
  {
   "cell_type": "code",
   "execution_count": 404,
   "id": "0a8f6477",
   "metadata": {},
   "outputs": [
    {
     "data": {
      "text/plain": [
       "<AxesSubplot:xlabel='EXT_SOURCE_3'>"
      ]
     },
     "execution_count": 404,
     "metadata": {},
     "output_type": "execute_result"
    },
    {
     "data": {
      "image/png": "[encoded data removed]",
      "text/plain": [
       "<Figure size 432x288 with 1 Axes>"
      ]
     },
     "metadata": {
      "needs_background": "light"
     },
     "output_type": "display_data"
    }
   ],
   "source": [
    "sns.boxplot(df1[\"EXT_SOURCE_3\"])"
   ]
  },
  {
   "cell_type": "code",
   "execution_count": 406,
   "id": "5109486c",
   "metadata": {},
   "outputs": [
    {
     "data": {
      "text/plain": [
       "count    3.075110e+05\n",
       "mean     5.143927e-01\n",
       "std      1.908550e-01\n",
       "min      8.173617e-08\n",
       "25%      3.929737e-01\n",
       "50%      5.654672e-01\n",
       "75%      6.634218e-01\n",
       "max      8.549997e-01\n",
       "Name: EXT_SOURCE_2, dtype: float64"
      ]
     },
     "execution_count": 406,
     "metadata": {},
     "output_type": "execute_result"
    }
   ],
   "source": [
    "df1[\"EXT_SOURCE_2\"].describe()"
   ]
  },
  {
   "cell_type": "code",
   "execution_count": 407,
   "id": "aa0b954e",
   "metadata": {},
   "outputs": [
    {
     "data": {
      "text/plain": [
       "<AxesSubplot:xlabel='EXT_SOURCE_2'>"
      ]
     },
     "execution_count": 407,
     "metadata": {},
     "output_type": "execute_result"
    },
    {
     "data": {
      "image/png": "[encoded data removed]",
      "text/plain": [
       "<Figure size 432x288 with 1 Axes>"
      ]
     },
     "metadata": {
      "needs_background": "light"
     },
     "output_type": "display_data"
    }
   ],
   "source": [
    "sns.boxplot(df1[\"EXT_SOURCE_2\"])"
   ]
  },
  {
   "cell_type": "code",
   "execution_count": null,
   "id": "177d81fb",
   "metadata": {},
   "outputs": [],
   "source": [
    "val_ = round(df1['EXT_SOURCE_2'].mean(),2)\n",
    "print(f'Since EXT_SOURCE_2 has no outlier, the column can be imputed using the mean of the coumn i.e. {val_}')"
   ]
  },
  {
   "cell_type": "code",
   "execution_count": 411,
   "id": "505844d2",
   "metadata": {},
   "outputs": [
    {
     "data": {
      "text/plain": [
       "count    307511.000000\n",
       "mean        962.858119\n",
       "std         826.807226\n",
       "min           0.000000\n",
       "25%         274.000000\n",
       "50%         757.000000\n",
       "75%        1570.000000\n",
       "max        4292.000000\n",
       "Name: DAYS_LAST_PHONE_CHANGE, dtype: float64"
      ]
     },
     "execution_count": 411,
     "metadata": {},
     "output_type": "execute_result"
    }
   ],
   "source": [
    "df1[\"DAYS_LAST_PHONE_CHANGE\"].describe()"
   ]
  },
  {
   "cell_type": "code",
   "execution_count": 412,
   "id": "d97ed857",
   "metadata": {},
   "outputs": [
    {
     "data": {
      "text/plain": [
       "(1670.0, 3514.0)"
      ]
     },
     "execution_count": 412,
     "metadata": {},
     "output_type": "execute_result"
    }
   ],
   "source": [
    "q1=274.000000\n",
    "q2=757.000000\n",
    "q3=1570.000000\n",
    "iqr=q3-q1\n",
    "upper_bound=q3+1.5*iqr\n",
    "lower_bound=abs(q1-1.5*iqr)\n",
    "lower_bound,upper_bound"
   ]
  },
  {
   "cell_type": "code",
   "execution_count": 413,
   "id": "e71d15ef",
   "metadata": {},
   "outputs": [
    {
     "data": {
      "text/plain": [
       "2847      3845\n",
       "2972      3560\n",
       "4533      3528\n",
       "4660      3882\n",
       "5599      3856\n",
       "          ... \n",
       "304373    3591\n",
       "304395    3559\n",
       "304873    3538\n",
       "304878    3676\n",
       "306923    3628\n",
       "Name: DAYS_LAST_PHONE_CHANGE, Length: 435, dtype: int32"
      ]
     },
     "execution_count": 413,
     "metadata": {},
     "output_type": "execute_result"
    }
   ],
   "source": [
    "df1[df1[\"DAYS_LAST_PHONE_CHANGE\"]>upper_bound][\"DAYS_LAST_PHONE_CHANGE\"]"
   ]
  },
  {
   "cell_type": "code",
   "execution_count": 414,
   "id": "1cbf50d7",
   "metadata": {},
   "outputs": [
    {
     "data": {
      "text/plain": [
       "0         1134\n",
       "1          828\n",
       "2          815\n",
       "3          617\n",
       "4         1106\n",
       "          ... \n",
       "307505       0\n",
       "307506     273\n",
       "307507       0\n",
       "307509     322\n",
       "307510     787\n",
       "Name: DAYS_LAST_PHONE_CHANGE, Length: 240847, dtype: int32"
      ]
     },
     "execution_count": 414,
     "metadata": {},
     "output_type": "execute_result"
    }
   ],
   "source": [
    "df1[df1[\"DAYS_LAST_PHONE_CHANGE\"]<lower_bound][\"DAYS_LAST_PHONE_CHANGE\"]"
   ]
  },
  {
   "cell_type": "code",
   "execution_count": 416,
   "id": "9cdc6327",
   "metadata": {},
   "outputs": [],
   "source": [
    "df1[\"DAYS_LAST_PHONE_CHANGE\"]=np.where(df1[\"DAYS_LAST_PHONE_CHANGE\"]<lower_bound,lower_bound,df1[\"DAYS_LAST_PHONE_CHANGE\"])\n",
    "df1[\"DAYS_LAST_PHONE_CHANGE\"]=np.where(df1[\"DAYS_LAST_PHONE_CHANGE\"]>upper_bound,upper_bound,df1[\"DAYS_LAST_PHONE_CHANGE\"])"
   ]
  },
  {
   "cell_type": "code",
   "execution_count": 417,
   "id": "e7425eb1",
   "metadata": {},
   "outputs": [
    {
     "data": {
      "text/plain": [
       "<AxesSubplot:xlabel='DAYS_LAST_PHONE_CHANGE'>"
      ]
     },
     "execution_count": 417,
     "metadata": {},
     "output_type": "execute_result"
    },
    {
     "data": {
      "image/png": "[encoded data removed]",
      "text/plain": [
       "<Figure size 432x288 with 1 Axes>"
      ]
     },
     "metadata": {
      "needs_background": "light"
     },
     "output_type": "display_data"
    }
   ],
   "source": [
    "sns.boxplot(df1[\"DAYS_LAST_PHONE_CHANGE\"])"
   ]
  },
  {
   "cell_type": "code",
   "execution_count": null,
   "id": "053a9ed9",
   "metadata": {},
   "outputs": [],
   "source": [
    "sns.boxplot(df1[\"HOUR_APPR_PROCESS_START\"])"
   ]
  },
  {
   "cell_type": "code",
   "execution_count": null,
   "id": "c5dbea7f",
   "metadata": {},
   "outputs": [],
   "source": [
    "df1[\"HOUR_APPR_PROCESS_START\"].describe()"
   ]
  },
  {
   "cell_type": "code",
   "execution_count": null,
   "id": "10af7a78",
   "metadata": {},
   "outputs": [],
   "source": [
    "q1=10.000000\n",
    "q2=12.000000\n",
    "q3=14.000000\n",
    "iqr=q3-q1\n",
    "upper_bound=q3+1.5*iqr\n",
    "lower_bound=abs(q1-1.5*iqr)\n",
    "lower_bound,upper_bound"
   ]
  },
  {
   "cell_type": "code",
   "execution_count": null,
   "id": "d7aedb7d",
   "metadata": {},
   "outputs": [],
   "source": [
    "df1[df1[\"HOUR_APPR_PROCESS_START\"]>upper_bound][\"HOUR_APPR_PROCESS_START\"]"
   ]
  },
  {
   "cell_type": "code",
   "execution_count": null,
   "id": "606fc15c",
   "metadata": {},
   "outputs": [],
   "source": [
    "df1[df1[\"HOUR_APPR_PROCESS_START\"]<lower_bound][\"HOUR_APPR_PROCESS_START\"]"
   ]
  },
  {
   "cell_type": "code",
   "execution_count": null,
   "id": "4a039f57",
   "metadata": {},
   "outputs": [],
   "source": [
    "df1[\"HOUR_APPR_PROCESS_START\"]=np.where(df1[\"HOUR_APPR_PROCESS_START\"]<lower_bound,lower_bound,df1[\"HOUR_APPR_PROCESS_START\"])\n",
    "df1[\"HOUR_APPR_PROCESS_START\"]=np.where(df1[\"HOUR_APPR_PROCESS_START\"]>upper_bound,upper_bound,df1[\"HOUR_APPR_PROCESS_START\"])"
   ]
  },
  {
   "cell_type": "code",
   "execution_count": 291,
   "id": "8c5ab03c",
   "metadata": {},
   "outputs": [
    {
     "data": {
      "text/plain": [
       "<AxesSubplot:xlabel='HOUR_APPR_PROCESS_START'>"
      ]
     },
     "execution_count": 291,
     "metadata": {},
     "output_type": "execute_result"
    },
    {
     "data": {
      "image/png": "[encoded data removed]",
      "text/plain": [
       "<Figure size 432x288 with 1 Axes>"
      ]
     },
     "metadata": {
      "needs_background": "light"
     },
     "output_type": "display_data"
    }
   ],
   "source": [
    "sns.boxplot(df1[\"HOUR_APPR_PROCESS_START\"])"
   ]
  },
  {
   "cell_type": "code",
   "execution_count": 289,
   "id": "c675adce",
   "metadata": {},
   "outputs": [
    {
     "data": {
      "text/plain": [
       "Business Entity Type 3    67992\n",
       "Self-employed             38412\n",
       "Other                     16683\n",
       "Medicine                  11193\n",
       "Business Entity Type 2    10553\n",
       "Government                10404\n",
       "School                     8893\n",
       "Trade: type 7              7831\n",
       "Kindergarten               6880\n",
       "Construction               6721\n",
       "Business Entity Type 1     5984\n",
       "Transport: type 4          5398\n",
       "Trade: type 3              3492\n",
       "Industry: type 9           3368\n",
       "Industry: type 3           3278\n",
       "Security                   3247\n",
       "Housing                    2958\n",
       "Industry: type 11          2704\n",
       "Military                   2634\n",
       "Bank                       2507\n",
       "Agriculture                2454\n",
       "Police                     2341\n",
       "Transport: type 2          2204\n",
       "Postal                     2157\n",
       "Security Ministries        1974\n",
       "Trade: type 2              1900\n",
       "Restaurant                 1811\n",
       "Services                   1575\n",
       "University                 1327\n",
       "Industry: type 7           1307\n",
       "Transport: type 3          1187\n",
       "Industry: type 1           1039\n",
       "Hotel                       966\n",
       "Electricity                 950\n",
       "Industry: type 4            877\n",
       "Trade: type 6               631\n",
       "Industry: type 5            599\n",
       "Insurance                   597\n",
       "Telecom                     577\n",
       "Emergency                   560\n",
       "Industry: type 2            458\n",
       "Advertising                 429\n",
       "Realtor                     396\n",
       "Culture                     379\n",
       "Industry: type 12           369\n",
       "Trade: type 1               348\n",
       "Mobile                      317\n",
       "Legal Services              305\n",
       "Cleaning                    260\n",
       "Transport: type 1           201\n",
       "Industry: type 6            112\n",
       "Industry: type 10           109\n",
       "Religion                     85\n",
       "Industry: type 13            67\n",
       "Trade: type 4                64\n",
       "Trade: type 5                49\n",
       "Industry: type 8             24\n",
       "Name: ORGANIZATION_TYPE, dtype: int64"
      ]
     },
     "execution_count": 289,
     "metadata": {},
     "output_type": "execute_result"
    }
   ],
   "source": [
    "df1.ORGANIZATION_TYPE.value_counts()"
   ]
  },
  {
   "cell_type": "code",
   "execution_count": 290,
   "id": "b017a7b9",
   "metadata": {},
   "outputs": [],
   "source": [
    "df1 = df1.replace('XNA',np.NaN)"
   ]
  },
  {
   "cell_type": "code",
   "execution_count": 285,
   "id": "1adf59d7",
   "metadata": {},
   "outputs": [
    {
     "data": {
      "text/plain": [
       "Business Entity Type 3    67992\n",
       "Self-employed             38412\n",
       "Other                     16683\n",
       "Medicine                  11193\n",
       "Business Entity Type 2    10553\n",
       "Government                10404\n",
       "School                     8893\n",
       "Trade: type 7              7831\n",
       "Kindergarten               6880\n",
       "Construction               6721\n",
       "Business Entity Type 1     5984\n",
       "Transport: type 4          5398\n",
       "Trade: type 3              3492\n",
       "Industry: type 9           3368\n",
       "Industry: type 3           3278\n",
       "Security                   3247\n",
       "Housing                    2958\n",
       "Industry: type 11          2704\n",
       "Military                   2634\n",
       "Bank                       2507\n",
       "Agriculture                2454\n",
       "Police                     2341\n",
       "Transport: type 2          2204\n",
       "Postal                     2157\n",
       "Security Ministries        1974\n",
       "Trade: type 2              1900\n",
       "Restaurant                 1811\n",
       "Services                   1575\n",
       "University                 1327\n",
       "Industry: type 7           1307\n",
       "Transport: type 3          1187\n",
       "Industry: type 1           1039\n",
       "Hotel                       966\n",
       "Electricity                 950\n",
       "Industry: type 4            877\n",
       "Trade: type 6               631\n",
       "Industry: type 5            599\n",
       "Insurance                   597\n",
       "Telecom                     577\n",
       "Emergency                   560\n",
       "Industry: type 2            458\n",
       "Advertising                 429\n",
       "Realtor                     396\n",
       "Culture                     379\n",
       "Industry: type 12           369\n",
       "Trade: type 1               348\n",
       "Mobile                      317\n",
       "Legal Services              305\n",
       "Cleaning                    260\n",
       "Transport: type 1           201\n",
       "Industry: type 6            112\n",
       "Industry: type 10           109\n",
       "Religion                     85\n",
       "Industry: type 13            67\n",
       "Trade: type 4                64\n",
       "Trade: type 5                49\n",
       "Industry: type 8             24\n",
       "Name: ORGANIZATION_TYPE, dtype: int64"
      ]
     },
     "execution_count": 285,
     "metadata": {},
     "output_type": "execute_result"
    }
   ],
   "source": [
    "df1.ORGANIZATION_TYPE.value_counts()"
   ]
  },
  {
   "cell_type": "code",
   "execution_count": 286,
   "id": "8cf08e18",
   "metadata": {},
   "outputs": [
    {
     "data": {
      "text/plain": [
       "0.0     VeryLow\n",
       "0.1     VeryLow\n",
       "0.3         Low\n",
       "0.6      Medium\n",
       "0.8        High\n",
       "1.0    VeryHigh\n",
       "Name: AMT_INCOME_TOTAL, dtype: category\n",
       "Categories (5, object): ['VeryLow' < 'Low' < 'Medium' < 'High' < 'VeryHigh']"
      ]
     },
     "execution_count": 286,
     "metadata": {},
     "output_type": "execute_result"
    }
   ],
   "source": [
    "df1['AMT_INCOME_TOTAL'].quantile([0,0.1,0.3,0.6,0.8,1])"
   ]
  },
  {
   "cell_type": "code",
   "execution_count": 300,
   "id": "85361e39",
   "metadata": {},
   "outputs": [
    {
     "data": {
      "text/plain": [
       "Medium      84302\n",
       "High        75513\n",
       "Low         67187\n",
       "VeryHigh    47118\n",
       "VeryLow     33391\n",
       "Name: AMT_INCOME_TOTAL, dtype: int64"
      ]
     },
     "execution_count": 300,
     "metadata": {},
     "output_type": "execute_result"
    }
   ],
   "source": [
    "df1[\"AMT_INCOME_TOTAL\"].value_counts()"
   ]
  },
  {
   "cell_type": "code",
   "execution_count": 302,
   "id": "75d4216c",
   "metadata": {},
   "outputs": [],
   "source": [
    "df1[\"Income grp\"]= pd.qcut(df1['AMT_INCOME_TOTAL'], q=[0,0.1,0.3,0.6,0.8,1],labels=['VeryLow','Low','Medium','High','VeryHigh'])"
   ]
  },
  {
   "cell_type": "code",
   "execution_count": null,
   "id": "0ab4107d",
   "metadata": {},
   "outputs": [],
   "source": [
    "##Binning of continuous variables"
   ]
  },
  {
   "cell_type": "code",
   "execution_count": 292,
   "id": "da6609b4",
   "metadata": {},
   "outputs": [
    {
     "data": {
      "text/plain": [
       "0.0     VeryLow\n",
       "0.1     VeryLow\n",
       "0.3         Low\n",
       "0.6      Medium\n",
       "0.8        High\n",
       "1.0    VeryHigh\n",
       "Name: AMT_INCOME_TOTAL, dtype: category\n",
       "Categories (5, object): ['VeryLow' < 'Low' < 'Medium' < 'High' < 'VeryHigh']"
      ]
     },
     "execution_count": 292,
     "metadata": {},
     "output_type": "execute_result"
    }
   ],
   "source": [
    "df1['AMT_INCOME_TOTAL'].quantile([0,0.1,0.3,0.6,0.8,1])"
   ]
  },
  {
   "cell_type": "code",
   "execution_count": null,
   "id": "d743859e",
   "metadata": {},
   "outputs": [],
   "source": [
    "## UNIVARIATE ANALYSIS"
   ]
  },
  {
   "cell_type": "code",
   "execution_count": 243,
   "id": "3995adb1",
   "metadata": {},
   "outputs": [
    {
     "data": {
      "text/plain": [
       "Married                 0.638780\n",
       "Single / not married    0.147780\n",
       "Civil marriage          0.096826\n",
       "Separated               0.064290\n",
       "Widow                   0.052317\n",
       "Unknown                 0.000007\n",
       "Name: NAME_FAMILY_STATUS, dtype: float64"
      ]
     },
     "execution_count": 243,
     "metadata": {},
     "output_type": "execute_result"
    }
   ],
   "source": [
    "df1.NAME_FAMILY_STATUS.value_counts(normalize=True)"
   ]
  },
  {
   "cell_type": "code",
   "execution_count": 245,
   "id": "42093b88",
   "metadata": {},
   "outputs": [
    {
     "data": {
      "text/plain": [
       "<AxesSubplot:>"
      ]
     },
     "execution_count": 245,
     "metadata": {},
     "output_type": "execute_result"
    },
    {
     "data": {
      "image/png": "[encoded data removed]",
      "text/plain": [
       "<Figure size 432x288 with 1 Axes>"
      ]
     },
     "metadata": {
      "needs_background": "light"
     },
     "output_type": "display_data"
    }
   ],
   "source": [
    "df1.NAME_FAMILY_STATUS.value_counts(normalize=True).plot.bar()"
   ]
  },
  {
   "cell_type": "code",
   "execution_count": 246,
   "id": "9351a167",
   "metadata": {},
   "outputs": [
    {
     "data": {
      "text/plain": [
       "Secondary / secondary special    0.710189\n",
       "Higher education                 0.243448\n",
       "Incomplete higher                0.033420\n",
       "Lower secondary                  0.012409\n",
       "Academic degree                  0.000533\n",
       "Name: NAME_EDUCATION_TYPE, dtype: float64"
      ]
     },
     "execution_count": 246,
     "metadata": {},
     "output_type": "execute_result"
    }
   ],
   "source": [
    "df1.NAME_EDUCATION_TYPE.value_counts(normalize=True)\n"
   ]
  },
  {
   "cell_type": "code",
   "execution_count": 247,
   "id": "79806af7",
   "metadata": {},
   "outputs": [
    {
     "data": {
      "text/plain": [
       "<AxesSubplot:>"
      ]
     },
     "execution_count": 247,
     "metadata": {},
     "output_type": "execute_result"
    },
    {
     "data": {
      "image/png": "[encoded data removed]",
      "text/plain": [
       "<Figure size 432x288 with 1 Axes>"
      ]
     },
     "metadata": {
      "needs_background": "light"
     },
     "output_type": "display_data"
    }
   ],
   "source": [
    "df1.NAME_EDUCATION_TYPE.value_counts(normalize=True).plot.bar()"
   ]
  },
  {
   "cell_type": "code",
   "execution_count": 248,
   "id": "e1efcbe2",
   "metadata": {},
   "outputs": [
    {
     "data": {
      "text/plain": [
       "Unaccompanied      0.812387\n",
       "Family             0.130561\n",
       "Spouse, partner    0.036974\n",
       "Children           0.010624\n",
       "Other_B            0.005756\n",
       "Other_A            0.002816\n",
       "Group of people    0.000881\n",
       "Name: NAME_TYPE_SUITE, dtype: float64"
      ]
     },
     "execution_count": 248,
     "metadata": {},
     "output_type": "execute_result"
    }
   ],
   "source": [
    "df1.NAME_TYPE_SUITE.value_counts(normalize=True)"
   ]
  },
  {
   "cell_type": "code",
   "execution_count": 249,
   "id": "1d8e188f",
   "metadata": {},
   "outputs": [
    {
     "data": {
      "text/plain": [
       "<AxesSubplot:>"
      ]
     },
     "execution_count": 249,
     "metadata": {},
     "output_type": "execute_result"
    },
    {
     "data": {
      "image/png": "[encoded data removed]",
      "text/plain": [
       "<Figure size 432x288 with 1 Axes>"
      ]
     },
     "metadata": {
      "needs_background": "light"
     },
     "output_type": "display_data"
    }
   ],
   "source": [
    "df1.NAME_TYPE_SUITE.value_counts(normalize=True).plot.bar()"
   ]
  },
  {
   "cell_type": "code",
   "execution_count": 250,
   "id": "0206833a",
   "metadata": {},
   "outputs": [
    {
     "data": {
      "text/plain": [
       "Working                 0.516320\n",
       "Commercial associate    0.232892\n",
       "Pensioner               0.180033\n",
       "State servant           0.070576\n",
       "Unemployed              0.000072\n",
       "Student                 0.000059\n",
       "Businessman             0.000033\n",
       "Maternity leave         0.000016\n",
       "Name: NAME_INCOME_TYPE, dtype: float64"
      ]
     },
     "execution_count": 250,
     "metadata": {},
     "output_type": "execute_result"
    }
   ],
   "source": [
    "df1.NAME_INCOME_TYPE.value_counts(normalize=True)"
   ]
  },
  {
   "cell_type": "code",
   "execution_count": 251,
   "id": "bf897dc3",
   "metadata": {},
   "outputs": [
    {
     "data": {
      "text/plain": [
       "<AxesSubplot:>"
      ]
     },
     "execution_count": 251,
     "metadata": {},
     "output_type": "execute_result"
    },
    {
     "data": {
      "image/png": "[encoded data removed]",
      "text/plain": [
       "<Figure size 432x288 with 1 Axes>"
      ]
     },
     "metadata": {
      "needs_background": "light"
     },
     "output_type": "display_data"
    }
   ],
   "source": [
    "df1.NAME_INCOME_TYPE.value_counts(normalize=True).plot.bar()"
   ]
  },
  {
   "cell_type": "code",
   "execution_count": 252,
   "id": "df00c4ec",
   "metadata": {},
   "outputs": [
    {
     "data": {
      "text/plain": [
       "House / apartment      0.887344\n",
       "With parents           0.048258\n",
       "Municipal apartment    0.036366\n",
       "Rented apartment       0.015873\n",
       "Office apartment       0.008510\n",
       "Co-op apartment        0.003649\n",
       "Name: NAME_HOUSING_TYPE, dtype: float64"
      ]
     },
     "execution_count": 252,
     "metadata": {},
     "output_type": "execute_result"
    }
   ],
   "source": [
    "df1.NAME_HOUSING_TYPE.value_counts(normalize=True)"
   ]
  },
  {
   "cell_type": "code",
   "execution_count": 254,
   "id": "40da551e",
   "metadata": {},
   "outputs": [
    {
     "data": {
      "text/plain": [
       "<AxesSubplot:>"
      ]
     },
     "execution_count": 254,
     "metadata": {},
     "output_type": "execute_result"
    },
    {
     "data": {
      "image/png": "[encoded data removed]",
      "text/plain": [
       "<Figure size 432x288 with 1 Axes>"
      ]
     },
     "metadata": {
      "needs_background": "light"
     },
     "output_type": "display_data"
    }
   ],
   "source": [
    "df1.NAME_HOUSING_TYPE.value_counts(normalize=True).plot.bar()"
   ]
  },
  {
   "cell_type": "code",
   "execution_count": 255,
   "id": "67f1f477",
   "metadata": {},
   "outputs": [
    {
     "data": {
      "text/plain": [
       "Laborers                 0.492916\n",
       "Sales staff              0.104393\n",
       "Core staff               0.089655\n",
       "Managers                 0.069497\n",
       "Drivers                  0.060495\n",
       "High skill tech staff    0.037007\n",
       "Accountants              0.031911\n",
       "Medicine staff           0.027762\n",
       "Security staff           0.021856\n",
       "Cooking staff            0.019336\n",
       "Cleaning staff           0.015131\n",
       "Private service staff    0.008624\n",
       "Low-skill Laborers       0.006806\n",
       "Waiters/barmen staff     0.004384\n",
       "Secretaries              0.004244\n",
       "Realty agents            0.002442\n",
       "HR staff                 0.001831\n",
       "IT staff                 0.001711\n",
       "Name: OCCUPATION_TYPE, dtype: float64"
      ]
     },
     "execution_count": 255,
     "metadata": {},
     "output_type": "execute_result"
    }
   ],
   "source": [
    "df1.OCCUPATION_TYPE.value_counts(normalize=True)"
   ]
  },
  {
   "cell_type": "code",
   "execution_count": 256,
   "id": "9e107a25",
   "metadata": {},
   "outputs": [
    {
     "data": {
      "text/plain": [
       "<AxesSubplot:>"
      ]
     },
     "execution_count": 256,
     "metadata": {},
     "output_type": "execute_result"
    },
    {
     "data": {
      "image/png": "[encoded data removed]",
      "text/plain": [
       "<Figure size 432x288 with 1 Axes>"
      ]
     },
     "metadata": {
      "needs_background": "light"
     },
     "output_type": "display_data"
    }
   ],
   "source": [
    "df1.OCCUPATION_TYPE.value_counts(normalize=True).plot.bar()"
   ]
  },
  {
   "cell_type": "code",
   "execution_count": null,
   "id": "4278b1a2",
   "metadata": {},
   "outputs": [],
   "source": [
    "###IMBALANCE IN TARGET VALUE"
   ]
  },
  {
   "cell_type": "code",
   "execution_count": 257,
   "id": "2162b5d9",
   "metadata": {},
   "outputs": [
    {
     "data": {
      "text/plain": [
       "0    0.919271\n",
       "1    0.080729\n",
       "Name: TARGET, dtype: float64"
      ]
     },
     "execution_count": 257,
     "metadata": {},
     "output_type": "execute_result"
    }
   ],
   "source": [
    "df1.TARGET.value_counts(normalize=True)\n"
   ]
  },
  {
   "cell_type": "code",
   "execution_count": 260,
   "id": "8a0c54ae",
   "metadata": {},
   "outputs": [
    {
     "data": {
      "text/plain": [
       "<AxesSubplot:ylabel='TARGET'>"
      ]
     },
     "execution_count": 260,
     "metadata": {},
     "output_type": "execute_result"
    },
    {
     "data": {
      "image/png": "[encoded data removed]",
      "text/plain": [
       "<Figure size 432x288 with 1 Axes>"
      ]
     },
     "metadata": {},
     "output_type": "display_data"
    }
   ],
   "source": [
    "df1.TARGET.value_counts(normalize=True).plot.pie()\n",
    "\n"
   ]
  },
  {
   "cell_type": "code",
   "execution_count": null,
   "id": "659ff1ed",
   "metadata": {},
   "outputs": [],
   "source": [
    "90% had no payment difficulties and 0.08% had some difficulties in doing their payments "
   ]
  },
  {
   "cell_type": "code",
   "execution_count": null,
   "id": "f27ab0f6",
   "metadata": {},
   "outputs": [],
   "source": [
    "##Bivariate Analysis"
   ]
  },
  {
   "cell_type": "code",
   "execution_count": 263,
   "id": "59d61355",
   "metadata": {},
   "outputs": [
    {
     "data": {
      "text/plain": [
       "<matplotlib.collections.PathCollection at 0x15a90104ca0>"
      ]
     },
     "execution_count": 263,
     "metadata": {},
     "output_type": "execute_result"
    },
    {
     "data": {
      "image/png": "[encoded data removed]",
      "text/plain": [
       "<Figure size 432x288 with 1 Axes>"
      ]
     },
     "metadata": {
      "needs_background": "light"
     },
     "output_type": "display_data"
    }
   ],
   "source": [
    "plt.scatter(df1.AMT_INCOME_TOTAL,df1.AMT_GOODS_PRICE)\n",
    "plt.show"
   ]
  },
  {
   "cell_type": "code",
   "execution_count": 433,
   "id": "6956b9ad",
   "metadata": {},
   "outputs": [
    {
     "data": {
      "image/png": "[encoded data removed]",
      "text/plain": [
       "<Figure size 360x360 with 6 Axes>"
      ]
     },
     "metadata": {
      "needs_background": "light"
     },
     "output_type": "display_data"
    }
   ],
   "source": [
    "sns.pairplot(data=df1, vars = [\"AMT_INCOME_TOTAL\", \"AMT_CREDIT\"])\n",
    "plt.title(\"Analysis of Income according to Age\")\n",
    "plt.show()"
   ]
  },
  {
   "cell_type": "code",
   "execution_count": 268,
   "id": "fcde906a",
   "metadata": {},
   "outputs": [
    {
     "data": {
      "image/png": "[encoded data removed]",
      "text/plain": [
       "<Figure size 432x288 with 1 Axes>"
      ]
     },
     "metadata": {
      "needs_background": "light"
     },
     "output_type": "display_data"
    }
   ],
   "source": [
    "df1.plot.scatter(x=\"AMT_INCOME_TOTAL\",y =\"AMT_GOODS_PRICE\" )\n",
    "plt.show()"
   ]
  },
  {
   "cell_type": "code",
   "execution_count": 275,
   "id": "0ddb1124",
   "metadata": {},
   "outputs": [
    {
     "data": {
      "text/plain": [
       "<seaborn.axisgrid.PairGrid at 0x15ac6294490>"
      ]
     },
     "execution_count": 275,
     "metadata": {},
     "output_type": "execute_result"
    },
    {
     "data": {
      "image/png": "[encoded data removed]",
      "text/plain": [
       "<Figure size 360x360 with 6 Axes>"
      ]
     },
     "metadata": {
      "needs_background": "light"
     },
     "output_type": "display_data"
    }
   ],
   "source": [
    "sns.pairplot(data=df1, vars = [\"AMT_INCOME_TOTAL\", \"AMT_CREDIT\"])"
   ]
  },
  {
   "cell_type": "code",
   "execution_count": null,
   "id": "7f7fb65b",
   "metadata": {},
   "outputs": [],
   "source": [
    "#Quantify using correlation method"
   ]
  },
  {
   "cell_type": "code",
   "execution_count": 437,
   "id": "feb09e6f",
   "metadata": {},
   "outputs": [
    {
     "data": {
      "text/html": [
       "<div>\n",
       "<style scoped>\n",
       "    .dataframe tbody tr th:only-of-type {\n",
       "        vertical-align: middle;\n",
       "    }\n",
       "\n",
       "    .dataframe tbody tr th {\n",
       "        vertical-align: top;\n",
       "    }\n",
       "\n",
       "    .dataframe thead th {\n",
       "        text-align: right;\n",
       "    }\n",
       "</style>\n",
       "<table border=\"1\" class=\"dataframe\">\n",
       "  <thead>\n",
       "    <tr style=\"text-align: right;\">\n",
       "      <th></th>\n",
       "      <th>AMT_INCOME_TOTAL</th>\n",
       "      <th>AMT_CREDIT</th>\n",
       "      <th>AMT_GOODS_PRICE</th>\n",
       "      <th>AGE</th>\n",
       "    </tr>\n",
       "  </thead>\n",
       "  <tbody>\n",
       "    <tr>\n",
       "      <th>AMT_INCOME_TOTAL</th>\n",
       "      <td>1.000000</td>\n",
       "      <td>0.309719</td>\n",
       "      <td>0.417078</td>\n",
       "      <td>-0.078135</td>\n",
       "    </tr>\n",
       "    <tr>\n",
       "      <th>AMT_CREDIT</th>\n",
       "      <td>0.309719</td>\n",
       "      <td>1.000000</td>\n",
       "      <td>0.595926</td>\n",
       "      <td>0.033605</td>\n",
       "    </tr>\n",
       "    <tr>\n",
       "      <th>AMT_GOODS_PRICE</th>\n",
       "      <td>0.417078</td>\n",
       "      <td>0.595926</td>\n",
       "      <td>1.000000</td>\n",
       "      <td>0.053465</td>\n",
       "    </tr>\n",
       "    <tr>\n",
       "      <th>AGE</th>\n",
       "      <td>-0.078135</td>\n",
       "      <td>0.033605</td>\n",
       "      <td>0.053465</td>\n",
       "      <td>1.000000</td>\n",
       "    </tr>\n",
       "  </tbody>\n",
       "</table>\n",
       "</div>"
      ],
      "text/plain": [
       "                  AMT_INCOME_TOTAL  AMT_CREDIT  AMT_GOODS_PRICE       AGE\n",
       "AMT_INCOME_TOTAL          1.000000    0.309719         0.417078 -0.078135\n",
       "AMT_CREDIT                0.309719    1.000000         0.595926  0.033605\n",
       "AMT_GOODS_PRICE           0.417078    0.595926         1.000000  0.053465\n",
       "AGE                      -0.078135    0.033605         0.053465  1.000000"
      ]
     },
     "execution_count": 437,
     "metadata": {},
     "output_type": "execute_result"
    }
   ],
   "source": [
    "df1[[\"AMT_INCOME_TOTAL\",\"AMT_CREDIT\",\"AMT_GOODS_PRICE\",\"AGE\"]].corr()"
   ]
  },
  {
   "cell_type": "code",
   "execution_count": 440,
   "id": "be9bce18",
   "metadata": {},
   "outputs": [
    {
     "data": {
      "text/plain": [
       "<AxesSubplot:>"
      ]
     },
     "execution_count": 440,
     "metadata": {},
     "output_type": "execute_result"
    },
    {
     "data": {
      "image/png": "[encoded data removed]",
      "text/plain": [
       "<Figure size 432x288 with 2 Axes>"
      ]
     },
     "metadata": {
      "needs_background": "light"
     },
     "output_type": "display_data"
    }
   ],
   "source": [
    "\n",
    "sns.heatmap(df1[[\"AMT_INCOME_TOTAL\",\"AMT_CREDIT\",\"AMT_GOODS_PRICE\",\"AGE\"]])"
   ]
  },
  {
   "cell_type": "code",
   "execution_count": 199,
   "id": "76062314",
   "metadata": {},
   "outputs": [],
   "source": [
    "### Checking for imbalance in Target"
   ]
  },
  {
   "cell_type": "code",
   "execution_count": 200,
   "id": "c0361810",
   "metadata": {},
   "outputs": [
    {
     "data": {
      "text/plain": [
       "0    91.927118\n",
       "1     8.072882\n",
       "Name: TARGET, dtype: float64"
      ]
     },
     "execution_count": 200,
     "metadata": {},
     "output_type": "execute_result"
    }
   ],
   "source": [
    "df1['TARGET'].value_counts(normalize=True)*100"
   ]
  },
  {
   "cell_type": "code",
   "execution_count": 202,
   "id": "48c1b5ca",
   "metadata": {},
   "outputs": [
    {
     "data": {
      "image/png": "[encoded data removed]",
      "text/plain": [
       "<Figure size 432x288 with 1 Axes>"
      ]
     },
     "metadata": {},
     "output_type": "display_data"
    }
   ],
   "source": [
    "plt.pie(df1['TARGET'].value_counts(normalize=True)*100,labels=['NON-DEFAULT (TARGET=0)','DEFAULT (TARGET=1)'])\n",
    "plt.title('TARGET Variable - DEFAULTER Vs NONDEFAULTER')\n",
    "plt.show()"
   ]
  },
  {
   "cell_type": "code",
   "execution_count": null,
   "id": "6677e3a9",
   "metadata": {},
   "outputs": [],
   "source": [
    "#Splitting the dataframe into two separate dfs"
   ]
  },
  {
   "cell_type": "code",
   "execution_count": 461,
   "id": "f7638c46",
   "metadata": {},
   "outputs": [],
   "source": [
    "Target_0=df1[df1.TARGET==0]    # Dataframe with all the data related to non-defaulters\n",
    "Target_1=df1[df1.TARGET==1]    # Dataframe with all the data related to defaulters"
   ]
  },
  {
   "cell_type": "code",
   "execution_count": 228,
   "id": "9f6f2ae8",
   "metadata": {},
   "outputs": [
    {
     "data": {
      "text/plain": [
       "2.0     12009\n",
       "1.0      5675\n",
       "3.0      4608\n",
       "4.0      2136\n",
       "5.0       327\n",
       "6.0        55\n",
       "7.0         6\n",
       "8.0         6\n",
       "10.0        1\n",
       "13.0        1\n",
       "11.0        1\n",
       "Name: CNT_FAM_MEMBERS, dtype: int64"
      ]
     },
     "execution_count": 228,
     "metadata": {},
     "output_type": "execute_result"
    }
   ],
   "source": [
    "Target_1['CNT_FAM_MEMBERS'].value_counts()"
   ]
  },
  {
   "cell_type": "code",
   "execution_count": 229,
   "id": "06cadc81",
   "metadata": {},
   "outputs": [
    {
     "data": {
      "image/png": "[encoded data removed]",
      "text/plain": [
       "<Figure size 1080x360 with 2 Axes>"
      ]
     },
     "metadata": {
      "needs_background": "light"
     },
     "output_type": "display_data"
    }
   ],
   "source": [
    "plt.figure(figsize=(15,5))\n",
    "\n",
    "plt.subplot(1, 2, 1)\n",
    "Target_0['CNT_FAM_MEMBERS'].plot.hist(bins=range(15))\n",
    "plt.title('Distribution of CNT_FAM_MEMBERS for Non-Defaulters',fontsize=15)\n",
    "plt.xlabel('CNT_FAM_MEMBERS')\n",
    "plt.ylabel('LOAN APPLICATION COUNT')\n",
    "\n",
    "plt.subplot(1, 2, 2)\n",
    "Target_1['CNT_FAM_MEMBERS'].plot.hist(bins=range(15))\n",
    "plt.title(f'Distribution of CNT_FAM_MEMBERS for Defaulters',fontsize=15)\n",
    "plt.xlabel('CNT_FAM_MEMBERS')\n",
    "plt.ylabel('LOAN APPLICATION COUNT')  \n",
    "\n",
    "plt.show()"
   ]
  },
  {
   "cell_type": "code",
   "execution_count": null,
   "id": "6a343bf6",
   "metadata": {},
   "outputs": [],
   "source": [
    "Insight: A family of 3 applies loan more often than the other families"
   ]
  },
  {
   "cell_type": "code",
   "execution_count": 235,
   "id": "6e4c107b",
   "metadata": {},
   "outputs": [
    {
     "data": {
      "text/plain": [
       "<AxesSubplot:xlabel='FLAG_OWN_CAR', ylabel='count'>"
      ]
     },
     "execution_count": 235,
     "metadata": {},
     "output_type": "execute_result"
    },
    {
     "data": {
      "image/png": "[encoded data removed]",
      "text/plain": [
       "<Figure size 432x288 with 1 Axes>"
      ]
     },
     "metadata": {
      "needs_background": "light"
     },
     "output_type": "display_data"
    }
   ],
   "source": [
    "sns.countplot(df1[\"FLAG_OWN_CAR\"])"
   ]
  },
  {
   "cell_type": "code",
   "execution_count": null,
   "id": "1950dcaf",
   "metadata": {},
   "outputs": [],
   "source": [
    "Insight: Less number of people oly had owned a car"
   ]
  },
  {
   "cell_type": "code",
   "execution_count": null,
   "id": "4afd2a8c",
   "metadata": {},
   "outputs": [],
   "source": []
  },
  {
   "cell_type": "code",
   "execution_count": null,
   "id": "90965e49",
   "metadata": {},
   "outputs": [],
   "source": []
  },
  {
   "cell_type": "code",
   "execution_count": null,
   "id": "e0b5aa4f",
   "metadata": {},
   "outputs": [],
   "source": []
  },
  {
   "cell_type": "code",
   "execution_count": null,
   "id": "05c9b222",
   "metadata": {},
   "outputs": [],
   "source": []
  },
  {
   "cell_type": "code",
   "execution_count": null,
   "id": "f8c32d5c",
   "metadata": {},
   "outputs": [],
   "source": []
  }
 ],
 "metadata": {
  "kernelspec": {
   "display_name": "Python 3 (ipykernel)",
   "language": "python",
   "name": "python3"
  },
  "language_info": {
   "codemirror_mode": {
    "name": "ipython",
    "version": 3
   },
   "file_extension": ".py",
   "mimetype": "text/x-python",
   "name": "python",
   "nbconvert_exporter": "python",
   "pygments_lexer": "ipython3",
   "version": "3.9.7"
  }
 },
 "nbformat": 4,
 "nbformat_minor": 5
}
